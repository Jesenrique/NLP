{
 "cells": [
  {
   "cell_type": "code",
   "execution_count": 1,
   "metadata": {},
   "outputs": [],
   "source": [
    "import os"
   ]
  },
  {
   "cell_type": "code",
   "execution_count": 5,
   "metadata": {},
   "outputs": [],
   "source": [
    "a=list(os.listdir(\"C:\\\\Users\\\\Jesus\\\\Downloads\\\\train\\\\train\"))"
   ]
  },
  {
   "cell_type": "code",
   "execution_count": 6,
   "metadata": {},
   "outputs": [],
   "source": [
    "b=list(os.listdir(\"C:\\\\Users\\\\Jesus\\\\Downloads\\\\train-20230718T040910Z-001\\\\train\"))"
   ]
  },
  {
   "cell_type": "code",
   "execution_count": 11,
   "metadata": {},
   "outputs": [],
   "source": [
    "c = list(filter(lambda x: x not in a, b))"
   ]
  },
  {
   "cell_type": "code",
   "execution_count": 13,
   "metadata": {},
   "outputs": [
    {
     "data": {
      "text/plain": [
       "['cf89c3220bc4_16(1).jpg',\n",
       " 'd0392fd5feb6_01(1).jpg',\n",
       " 'd0392fd5feb6_02(1).jpg',\n",
       " 'd0392fd5feb6_03(1).jpg',\n",
       " 'd0392fd5feb6_04(1).jpg',\n",
       " 'd0392fd5feb6_05(1).jpg',\n",
       " 'd0392fd5feb6_06(1).jpg',\n",
       " 'd0392fd5feb6_07(1).jpg',\n",
       " 'd0392fd5feb6_08(1).jpg',\n",
       " 'd0392fd5feb6_10(1).jpg']"
      ]
     },
     "execution_count": 13,
     "metadata": {},
     "output_type": "execute_result"
    }
   ],
   "source": [
    "c"
   ]
  }
 ],
 "metadata": {
  "kernelspec": {
   "display_name": "env",
   "language": "python",
   "name": "python3"
  },
  "language_info": {
   "codemirror_mode": {
    "name": "ipython",
    "version": 3
   },
   "file_extension": ".py",
   "mimetype": "text/x-python",
   "name": "python",
   "nbconvert_exporter": "python",
   "pygments_lexer": "ipython3",
   "version": "3.11.1"
  },
  "orig_nbformat": 4
 },
 "nbformat": 4,
 "nbformat_minor": 2
}
