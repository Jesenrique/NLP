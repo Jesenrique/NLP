{
  "cells": [
    {
      "cell_type": "markdown",
      "metadata": {
        "id": "sZd5yLnnHOK0"
      },
      "source": [
        "<img src=\"https://github.com/hernancontigiani/ceia_memorias_especializacion/raw/master/Figures/logoFIUBA.jpg\" width=\"500\" align=\"center\">\n",
        "\n",
        "\n",
        "# Procesamiento de lenguaje natural\n",
        "## Custom embedddings con Gensim\n",
        "\n"
      ]
    },
    {
      "cell_type": "markdown",
      "metadata": {
        "id": "vA7nqkumo9z9"
      },
      "source": [
        "### Objetivo\n",
        "El objetivo es utilizar documentos / corpus para crear embeddings de palabras basado en ese contexto. Se utilizará canciones de bandas para generar los embeddings, es decir, que los vectores tendrán la forma en función de como esa banda haya utilizado las palabras en sus canciones."
      ]
    },
    {
      "cell_type": "code",
      "execution_count": 77,
      "metadata": {
        "id": "lFToQs5FK5uZ"
      },
      "outputs": [],
      "source": [
        "import pandas as pd\n",
        "import matplotlib.pyplot as plt\n",
        "import seaborn as sns\n",
        "\n",
        "import multiprocessing\n",
        "from gensim.models import Word2Vec\n",
        "\n",
        "import json\n",
        "import string\n",
        "import random\n",
        "import re # Regular Expressions (regex)\n",
        "import urllib.request\n",
        "\n",
        "import numpy as np\n",
        "# Para leer y parsear el texto en HTML de wikipedia\n",
        "import bs4 as bs\n",
        "\n",
        "import nltk\n",
        "# Descargar el diccionario\n",
        "\n"
      ]
    },
    {
      "cell_type": "markdown",
      "metadata": {
        "id": "g07zJxG7H9vG"
      },
      "source": [
        "### Datos\n",
        "Utilizaremos como dataset conversaciones de la serie los Simpsons."
      ]
    },
    {
      "cell_type": "code",
      "execution_count": 78,
      "metadata": {
        "id": "6j-3nQ4lZjfb"
      },
      "outputs": [],
      "source": [
        "df=pd.read_csv(\"/content/simpsons_script_lines.csv\",low_memory=False)"
      ]
    },
    {
      "cell_type": "code",
      "execution_count": 79,
      "metadata": {
        "id": "aZF9jG4M8qWF"
      },
      "outputs": [],
      "source": [
        "df=df.dropna()"
      ]
    },
    {
      "cell_type": "markdown",
      "metadata": {
        "id": "ab94qaFlrA1G"
      },
      "source": [
        "### 1 - Preprocesamiento"
      ]
    },
    {
      "cell_type": "code",
      "source": [
        "#Acomodo todas las oraciones en una lista, quitando puntuacion\n",
        "\n",
        "def remove(text):\n",
        "  text=str(text).lower()\n",
        "  return re.sub(r'[^\\w\\s]', '', text).split()\n",
        "\n",
        "sentence_tokens=[remove(x) for x in df[\"spoken_words\"].values if len(x)]"
      ],
      "metadata": {
        "id": "Bwd5TgXQpj_z"
      },
      "execution_count": 80,
      "outputs": []
    },
    {
      "cell_type": "code",
      "source": [
        "# Demos un vistazo\n",
        "sentence_tokens[995:1000]"
      ],
      "metadata": {
        "colab": {
          "base_uri": "https://localhost:8080/"
        },
        "id": "ubZyhdNbouQi",
        "outputId": "6d81c4e9-fe03-41db-9213-649161b586e5"
      },
      "execution_count": 81,
      "outputs": [
        {
          "output_type": "execute_result",
          "data": {
            "text/plain": [
              "[['maggie'],\n",
              " ['bart', 'i', 'asked', 'you', 'to', 'watch', 'your', 'sister'],\n",
              " ['i', 'tried', 'to', 'stop', 'her', 'but', 'she', 'overpowered', 'me'],\n",
              " ['who', 'stole', 'my', 'shirt', 'who', 'stole', 'my', 'shirt'],\n",
              " ['i', 'washed', 'it']]"
            ]
          },
          "metadata": {},
          "execution_count": 81
        }
      ]
    },
    {
      "cell_type": "markdown",
      "metadata": {
        "id": "BaXV6nlHr5Aa"
      },
      "source": [
        "### 2 - Crear los vectores (word2vec)"
      ]
    },
    {
      "cell_type": "code",
      "execution_count": 82,
      "metadata": {
        "id": "OSb0v7h8r7hK"
      },
      "outputs": [],
      "source": [
        "from gensim.models.callbacks import CallbackAny2Vec\n",
        "# Durante el entrenamiento gensim por defecto no informa el \"loss\" en cada época\n",
        "# Sobrecargamos el callback para poder tener esta información\n",
        "class callback(CallbackAny2Vec):\n",
        "    \"\"\"\n",
        "    Callback to print loss after each epoch\n",
        "    \"\"\"\n",
        "    def __init__(self):\n",
        "        self.epoch = 0\n",
        "\n",
        "    def on_epoch_end(self, model):\n",
        "        loss = model.get_latest_training_loss()\n",
        "        if self.epoch == 0:\n",
        "            print('Loss after epoch {}: {}'.format(self.epoch, loss))\n",
        "        else:\n",
        "            print('Loss after epoch {}: {}'.format(self.epoch, loss- self.loss_previous_step))\n",
        "        self.epoch += 1\n",
        "        self.loss_previous_step = loss"
      ]
    },
    {
      "cell_type": "code",
      "execution_count": 83,
      "metadata": {
        "id": "i0wnDdv9sJ47"
      },
      "outputs": [],
      "source": [
        "# En este caso utilizaremos la estructura modelo Skipgram\n",
        "w2v_model = Word2Vec(min_count=5,    # frecuencia mínima de palabra para incluirla en el vocabulario\n",
        "                     window=2,       # cant de palabras antes y desp de la predicha\n",
        "                     vector_size=300,       # dimensionalidad de los vectores\n",
        "                     negative=20,    # cantidad de negative samples... 0 es no se usa\n",
        "                     workers=1,      # si tienen más cores pueden cambiar este valor\n",
        "                     sg=1)           # modelo 0:CBOW  1:skipgram"
      ]
    },
    {
      "cell_type": "code",
      "execution_count": 84,
      "metadata": {
        "id": "5lTt8wErsf17"
      },
      "outputs": [],
      "source": [
        "# Obtener el vocabulario con los tokens\n",
        "w2v_model.build_vocab(sentence_tokens)"
      ]
    },
    {
      "cell_type": "code",
      "execution_count": 85,
      "metadata": {
        "id": "TNc9qt4os5AT",
        "colab": {
          "base_uri": "https://localhost:8080/"
        },
        "outputId": "10f27a75-17b6-4f93-bb43-1444d6b4b656"
      },
      "outputs": [
        {
          "output_type": "stream",
          "name": "stdout",
          "text": [
            "Cantidad de docs en el corpus: 131708\n"
          ]
        }
      ],
      "source": [
        "# Cantidad de filas/docs encontradas en el corpus\n",
        "print(\"Cantidad de docs en el corpus:\", w2v_model.corpus_count)"
      ]
    },
    {
      "cell_type": "code",
      "execution_count": 86,
      "metadata": {
        "id": "idw9cHF3tSMl",
        "colab": {
          "base_uri": "https://localhost:8080/"
        },
        "outputId": "929742be-8852-410b-c721-3d96c0509de8"
      },
      "outputs": [
        {
          "output_type": "stream",
          "name": "stdout",
          "text": [
            "Cantidad de words distintas en el corpus: 11707\n"
          ]
        }
      ],
      "source": [
        "# Cantidad de words encontradas en el corpus\n",
        "print(\"Cantidad de words distintas en el corpus:\", len(w2v_model.wv.index_to_key))"
      ]
    },
    {
      "cell_type": "markdown",
      "metadata": {
        "id": "uEVYlydus2vt"
      },
      "source": [
        "### 3 - Entrenar el modelo generador"
      ]
    },
    {
      "cell_type": "code",
      "execution_count": 87,
      "metadata": {
        "colab": {
          "base_uri": "https://localhost:8080/"
        },
        "id": "A2_U8wJ3s2vv",
        "outputId": "0803c130-142a-4d0b-b1ab-a8f836f5b3f0"
      },
      "outputs": [
        {
          "output_type": "stream",
          "name": "stdout",
          "text": [
            "Loss after epoch 0: 7946465.0\n",
            "Loss after epoch 1: 6324143.0\n",
            "Loss after epoch 2: 6145012.0\n",
            "Loss after epoch 3: 6007852.0\n",
            "Loss after epoch 4: 5918764.0\n",
            "Loss after epoch 5: 6240572.0\n",
            "Loss after epoch 6: 6202912.0\n",
            "Loss after epoch 7: 6069992.0\n",
            "Loss after epoch 8: 5959484.0\n",
            "Loss after epoch 9: 5846244.0\n",
            "Loss after epoch 10: 4758272.0\n",
            "Loss after epoch 11: 1374560.0\n",
            "Loss after epoch 12: 1375144.0\n",
            "Loss after epoch 13: 1373352.0\n",
            "Loss after epoch 14: 1366440.0\n",
            "Loss after epoch 15: 1359920.0\n",
            "Loss after epoch 16: 1353872.0\n",
            "Loss after epoch 17: 1342488.0\n",
            "Loss after epoch 18: 1336304.0\n",
            "Loss after epoch 19: 1327360.0\n",
            "Loss after epoch 20: 1316496.0\n",
            "Loss after epoch 21: 1309592.0\n",
            "Loss after epoch 22: 1300648.0\n",
            "Loss after epoch 23: 1295952.0\n",
            "Loss after epoch 24: 1286576.0\n",
            "Loss after epoch 25: 1276384.0\n",
            "Loss after epoch 26: 1264912.0\n",
            "Loss after epoch 27: 1257752.0\n",
            "Loss after epoch 28: 1245696.0\n",
            "Loss after epoch 29: 1239824.0\n",
            "Loss after epoch 30: 1230728.0\n",
            "Loss after epoch 31: 1221496.0\n",
            "Loss after epoch 32: 1209168.0\n",
            "Loss after epoch 33: 1205208.0\n",
            "Loss after epoch 34: 1193568.0\n",
            "Loss after epoch 35: 1185824.0\n",
            "Loss after epoch 36: 1176224.0\n",
            "Loss after epoch 37: 1167576.0\n",
            "Loss after epoch 38: 1158544.0\n",
            "Loss after epoch 39: 1152176.0\n",
            "Loss after epoch 40: 1138520.0\n",
            "Loss after epoch 41: 1135648.0\n",
            "Loss after epoch 42: 1125320.0\n",
            "Loss after epoch 43: 1118240.0\n",
            "Loss after epoch 44: 1100520.0\n",
            "Loss after epoch 45: 1101640.0\n",
            "Loss after epoch 46: 1094920.0\n",
            "Loss after epoch 47: 1081000.0\n",
            "Loss after epoch 48: 1072552.0\n",
            "Loss after epoch 49: 1067392.0\n",
            "Loss after epoch 50: 1056024.0\n",
            "Loss after epoch 51: 1048032.0\n",
            "Loss after epoch 52: 1042840.0\n",
            "Loss after epoch 53: 1027464.0\n",
            "Loss after epoch 54: 1022000.0\n",
            "Loss after epoch 55: 1016688.0\n",
            "Loss after epoch 56: 1007280.0\n",
            "Loss after epoch 57: 1000552.0\n",
            "Loss after epoch 58: 989528.0\n",
            "Loss after epoch 59: 978456.0\n",
            "Loss after epoch 60: 974136.0\n",
            "Loss after epoch 61: 966368.0\n",
            "Loss after epoch 62: 957408.0\n",
            "Loss after epoch 63: 947328.0\n",
            "Loss after epoch 64: 937832.0\n",
            "Loss after epoch 65: 933400.0\n",
            "Loss after epoch 66: 924840.0\n",
            "Loss after epoch 67: 914864.0\n",
            "Loss after epoch 68: 908976.0\n",
            "Loss after epoch 69: 204464.0\n",
            "Loss after epoch 70: 0.0\n",
            "Loss after epoch 71: 0.0\n",
            "Loss after epoch 72: 0.0\n",
            "Loss after epoch 73: 0.0\n",
            "Loss after epoch 74: 0.0\n",
            "Loss after epoch 75: 0.0\n",
            "Loss after epoch 76: 0.0\n",
            "Loss after epoch 77: 0.0\n",
            "Loss after epoch 78: 0.0\n",
            "Loss after epoch 79: 0.0\n",
            "Loss after epoch 80: 0.0\n",
            "Loss after epoch 81: 0.0\n",
            "Loss after epoch 82: 0.0\n",
            "Loss after epoch 83: 0.0\n",
            "Loss after epoch 84: 0.0\n",
            "Loss after epoch 85: 0.0\n",
            "Loss after epoch 86: 0.0\n",
            "Loss after epoch 87: 0.0\n",
            "Loss after epoch 88: 0.0\n",
            "Loss after epoch 89: 0.0\n",
            "Loss after epoch 90: 0.0\n",
            "Loss after epoch 91: 0.0\n",
            "Loss after epoch 92: 0.0\n",
            "Loss after epoch 93: 0.0\n",
            "Loss after epoch 94: 0.0\n",
            "Loss after epoch 95: 0.0\n",
            "Loss after epoch 96: 0.0\n",
            "Loss after epoch 97: 0.0\n",
            "Loss after epoch 98: 0.0\n",
            "Loss after epoch 99: 0.0\n"
          ]
        },
        {
          "output_type": "execute_result",
          "data": {
            "text/plain": [
              "(95009323, 129925700)"
            ]
          },
          "metadata": {},
          "execution_count": 87
        }
      ],
      "source": [
        "# Entrenamos el modelo generador de vectores\n",
        "# Utilizamos nuestro callback\n",
        "w2v_model.train(sentence_tokens,\n",
        "                 total_examples=w2v_model.corpus_count,\n",
        "                 epochs=100,\n",
        "                 compute_loss = True,\n",
        "                 callbacks=[callback()]\n",
        "                 )"
      ]
    },
    {
      "cell_type": "code",
      "source": [
        "#guardar el modelo\n",
        "w2v_model.save('model-simpsons-nlp.bin')"
      ],
      "metadata": {
        "id": "9NL8l5-FSyxQ"
      },
      "execution_count": 102,
      "outputs": []
    },
    {
      "cell_type": "code",
      "source": [
        "# Load the model\n",
        "#import gensim\n",
        "#w2v_model = gensim.models.Word2Vec.load('model-simpsons-nlp.bin')\n"
      ],
      "metadata": {
        "id": "LZUe4qtDH3lz"
      },
      "execution_count": 89,
      "outputs": []
    },
    {
      "cell_type": "markdown",
      "metadata": {
        "id": "ddT9NVuNlCAe"
      },
      "source": [
        "### 4 - Ensayar"
      ]
    },
    {
      "cell_type": "code",
      "execution_count": 103,
      "metadata": {
        "id": "6cHN9xGLuPEm",
        "colab": {
          "base_uri": "https://localhost:8080/"
        },
        "outputId": "10f6150f-8923-4281-de3a-c90465b77ba1"
      },
      "outputs": [
        {
          "output_type": "execute_result",
          "data": {
            "text/plain": [
              "[('mr', 0.4935748875141144),\n",
              " ('montgomery', 0.3828044831752777),\n",
              " ('burnss', 0.37974125146865845),\n",
              " ('rafting', 0.373269259929657),\n",
              " ('welly', 0.35727304220199585)]"
            ]
          },
          "metadata": {},
          "execution_count": 103
        }
      ],
      "source": [
        "# Palabras que MÁS se relacionan con...:\n",
        "w2v_model.wv.most_similar(positive=[\"burns\"], topn=5)"
      ]
    },
    {
      "cell_type": "code",
      "source": [
        "w2v_model.wv.most_similar(positive=[\"bart\"], topn=5)"
      ],
      "metadata": {
        "colab": {
          "base_uri": "https://localhost:8080/"
        },
        "id": "TAU1pUYTHFDY",
        "outputId": "f2f562a2-3e30-4e08-992c-e269160f7515"
      },
      "execution_count": 104,
      "outputs": [
        {
          "output_type": "execute_result",
          "data": {
            "text/plain": [
              "[('kay', 0.35072818398475647),\n",
              " ('milhouse', 0.34625452756881714),\n",
              " ('rebuttal', 0.34220921993255615),\n",
              " ('hidilly', 0.3407613933086395),\n",
              " ('toottoot', 0.33982640504837036)]"
            ]
          },
          "metadata": {},
          "execution_count": 104
        }
      ]
    },
    {
      "cell_type": "code",
      "source": [
        "w2v_model.wv.most_similar(positive=[\"homer\"], topn=5)"
      ],
      "metadata": {
        "colab": {
          "base_uri": "https://localhost:8080/"
        },
        "id": "P_NsSReBFEp_",
        "outputId": "afe9d1ea-e48a-4dea-be91-0a9da3ac938f"
      },
      "execution_count": 105,
      "outputs": [
        {
          "output_type": "execute_result",
          "data": {
            "text/plain": [
              "[('simpson', 0.41499626636505127),\n",
              " ('tata', 0.3883100748062134),\n",
              " ('simp', 0.36873742938041687),\n",
              " ('dad', 0.36840495467185974),\n",
              " ('slimu', 0.3587924540042877)]"
            ]
          },
          "metadata": {},
          "execution_count": 105
        }
      ]
    },
    {
      "cell_type": "code",
      "source": [
        "# Palabras que MÁS se relacionan con...:\n",
        "w2v_model.wv.most_similar(positive=[\"krusty\"], topn=5)"
      ],
      "metadata": {
        "colab": {
          "base_uri": "https://localhost:8080/"
        },
        "id": "jgLN7MhGF3qu",
        "outputId": "8fb27618-5d79-4acb-fa26-2ff6931923e4"
      },
      "execution_count": 106,
      "outputs": [
        {
          "output_type": "execute_result",
          "data": {
            "text/plain": [
              "[('clown', 0.3718061149120331),\n",
              " ('klown', 0.3570955693721771),\n",
              " ('maitre', 0.3284519612789154),\n",
              " ('kamp', 0.30465832352638245),\n",
              " ('whoops', 0.3043697774410248)]"
            ]
          },
          "metadata": {},
          "execution_count": 106
        }
      ]
    },
    {
      "cell_type": "code",
      "source": [
        "w2v_model.wv.most_similar(positive=[\"marge\"], topn=5)"
      ],
      "metadata": {
        "colab": {
          "base_uri": "https://localhost:8080/"
        },
        "id": "TlW4odBZFyvV",
        "outputId": "072a8f53-c658-414f-e7b9-e3cc6ce22514"
      },
      "execution_count": 107,
      "outputs": [
        {
          "output_type": "execute_result",
          "data": {
            "text/plain": [
              "[('daaad', 0.3731583058834076),\n",
              " ('homer', 0.3584832549095154),\n",
              " ('sylvia', 0.34055328369140625),\n",
              " ('homie', 0.33837249875068665),\n",
              " ('hoochie', 0.32837820053100586)]"
            ]
          },
          "metadata": {},
          "execution_count": 107
        }
      ]
    },
    {
      "cell_type": "code",
      "execution_count": 108,
      "metadata": {
        "id": "47HiU5gdkdMq",
        "colab": {
          "base_uri": "https://localhost:8080/"
        },
        "outputId": "e6c07d81-2438-48b0-959e-5af8df558074"
      },
      "outputs": [
        {
          "output_type": "execute_result",
          "data": {
            "text/plain": [
              "[('apartment', 0.09350478649139404),\n",
              " ('smaller', 0.08921615779399872),\n",
              " ('sallright', 0.08321058005094528),\n",
              " ('cheap', 0.07480017840862274),\n",
              " ('broadway', 0.05807023122906685)]"
            ]
          },
          "metadata": {},
          "execution_count": 108
        }
      ],
      "source": [
        "# Palabras que MENOS se relacionan con...:\n",
        "w2v_model.wv.most_similar(negative=[\"simpson\"], topn=5)"
      ]
    },
    {
      "cell_type": "code",
      "source": [
        "w2v_model.wv.most_similar(negative=[\"bart\"], topn=5)"
      ],
      "metadata": {
        "colab": {
          "base_uri": "https://localhost:8080/"
        },
        "id": "rXXZ_Ci6L_pK",
        "outputId": "cdecc852-abfb-4aa5-bebe-d8ccc161f57a"
      },
      "execution_count": 100,
      "outputs": [
        {
          "output_type": "execute_result",
          "data": {
            "text/plain": [
              "[('homeless', 0.0853266641497612),\n",
              " ('network', 0.06982976943254471),\n",
              " ('sallright', 0.054292142391204834),\n",
              " ('firing', 0.051582541316747665),\n",
              " ('eastern', 0.03598767891526222)]"
            ]
          },
          "metadata": {},
          "execution_count": 100
        }
      ]
    },
    {
      "cell_type": "code",
      "source": [
        "w2v_model.wv.most_similar(negative=[\"otto\"], topn=5)"
      ],
      "metadata": {
        "colab": {
          "base_uri": "https://localhost:8080/"
        },
        "id": "o39gnQ8RMEZK",
        "outputId": "7754db78-735b-4948-f5d0-f6f99b373d93"
      },
      "execution_count": 117,
      "outputs": [
        {
          "output_type": "execute_result",
          "data": {
            "text/plain": [
              "[('stable', 0.0814487561583519),\n",
              " ('capsule', 0.07583986967802048),\n",
              " ('whether', 0.06643354147672653),\n",
              " ('acceptance', 0.065835140645504),\n",
              " ('worn', 0.06323283165693283)]"
            ]
          },
          "metadata": {},
          "execution_count": 117
        }
      ]
    },
    {
      "cell_type": "code",
      "source": [
        "w2v_model.wv.most_similar(negative=[\"apu\"], topn=5)"
      ],
      "metadata": {
        "colab": {
          "base_uri": "https://localhost:8080/"
        },
        "id": "2xKEVC5lRTmT",
        "outputId": "1d888f95-c59c-498a-990a-9d7d345675c8"
      },
      "execution_count": 118,
      "outputs": [
        {
          "output_type": "execute_result",
          "data": {
            "text/plain": [
              "[('disorder', 0.09113717079162598),\n",
              " ('sinkhole', 0.08909886330366135),\n",
              " ('toward', 0.08502352237701416),\n",
              " ('vital', 0.07961184531450272),\n",
              " ('drops', 0.07094001024961472)]"
            ]
          },
          "metadata": {},
          "execution_count": 118
        }
      ]
    },
    {
      "cell_type": "code",
      "execution_count": 119,
      "metadata": {
        "id": "XPLDPgzBmQXt",
        "colab": {
          "base_uri": "https://localhost:8080/"
        },
        "outputId": "e3cb5730-2b71-4cb1-90b7-38604bded853"
      },
      "outputs": [
        {
          "output_type": "execute_result",
          "data": {
            "text/plain": [
              "[('remains', 0.08451435714960098),\n",
              " ('size', 0.07988189905881882),\n",
              " ('filter', 0.05832090228796005),\n",
              " ('booze', 0.054347410798072815),\n",
              " ('valley', 0.048633936792612076)]"
            ]
          },
          "metadata": {},
          "execution_count": 119
        }
      ],
      "source": [
        "# Palabras que MÁS se relacionan con...:\n",
        "w2v_model.wv.most_similar(negative=[\"lisa\"], topn=5)"
      ]
    },
    {
      "cell_type": "code",
      "source": [
        "w2v_model.wv.most_similar(negative=[\"ralph\"], topn=5)"
      ],
      "metadata": {
        "colab": {
          "base_uri": "https://localhost:8080/"
        },
        "id": "uo44in_gRb7K",
        "outputId": "22b001a8-5ade-4112-fb04-f498bd0b9405"
      },
      "execution_count": 120,
      "outputs": [
        {
          "output_type": "execute_result",
          "data": {
            "text/plain": [
              "[('jet', 0.09406711161136627),\n",
              " ('cue', 0.09287181496620178),\n",
              " ('learning', 0.07445380091667175),\n",
              " ('tartar', 0.07420462369918823),\n",
              " ('guide', 0.073801189661026)]"
            ]
          },
          "metadata": {},
          "execution_count": 120
        }
      ]
    },
    {
      "cell_type": "markdown",
      "metadata": {
        "id": "_g8UVWe6lFmh"
      },
      "source": [
        "### 5 - Visualizar agrupación de vectores"
      ]
    },
    {
      "cell_type": "code",
      "execution_count": 97,
      "metadata": {
        "id": "pDxEVXAivjr9"
      },
      "outputs": [],
      "source": [
        "from sklearn.decomposition import IncrementalPCA\n",
        "from sklearn.manifold import TSNE\n",
        "import numpy as np\n",
        "\n",
        "def reduce_dimensions(model):\n",
        "    num_dimensions = 2\n",
        "\n",
        "    vectors = np.asarray(model.wv.vectors)\n",
        "    labels = np.asarray(model.wv.index_to_key)\n",
        "\n",
        "    tsne = TSNE(n_components=num_dimensions, random_state=0)\n",
        "    vectors = tsne.fit_transform(vectors)\n",
        "\n",
        "    x_vals = [v[0] for v in vectors]\n",
        "    y_vals = [v[1] for v in vectors]\n",
        "    return x_vals, y_vals, labels"
      ]
    },
    {
      "cell_type": "code",
      "execution_count": 98,
      "metadata": {
        "id": "NCCXtDpcugmd",
        "colab": {
          "base_uri": "https://localhost:8080/",
          "height": 542
        },
        "outputId": "872afdef-a457-4d9f-9220-5962b184c88a"
      },
      "outputs": [
        {
          "output_type": "display_data",
          "data": {
            "text/html": [
              "<html>\n",
              "<head><meta charset=\"utf-8\" /></head>\n",
              "<body>\n",
              "    <div>            <script src=\"https://cdnjs.cloudflare.com/ajax/libs/mathjax/2.7.5/MathJax.js?config=TeX-AMS-MML_SVG\"></script><script type=\"text/javascript\">if (window.MathJax && window.MathJax.Hub && window.MathJax.Hub.Config) {window.MathJax.Hub.Config({SVG: {font: \"STIX-Web\"}});}</script>                <script type=\"text/javascript\">window.PlotlyConfig = {MathJaxConfig: 'local'};</script>\n",
              "        <script src=\"https://cdn.plot.ly/plotly-2.18.2.min.js\"></script>                <div id=\"c7eb0f68-3c08-494e-8edb-e33de7d7f73b\" class=\"plotly-graph-div\" style=\"height:525px; width:100%;\"></div>            <script type=\"text/javascript\">                                    window.PLOTLYENV=window.PLOTLYENV || {};                                    if (document.getElementById(\"c7eb0f68-3c08-494e-8edb-e33de7d7f73b\")) {                    Plotly.newPlot(                        \"c7eb0f68-3c08-494e-8edb-e33de7d7f73b\",                        [{\"hovertemplate\":\"x=%{x}<br>y=%{y}<br>text=%{text}<extra></extra>\",\"legendgroup\":\"\",\"marker\":{\"color\":\"#636efa\",\"symbol\":\"circle\"},\"mode\":\"markers+text\",\"name\":\"\",\"orientation\":\"v\",\"showlegend\":false,\"text\":[\"the\",\"you\",\"i\",\"a\",\"to\",\"and\",\"of\",\"it\",\"that\",\"my\",\"in\",\"is\",\"this\",\"me\",\"your\",\"for\",\"im\",\"we\",\"on\",\"oh\",\"what\",\"have\",\"no\",\"but\",\"be\",\"well\",\"its\",\"dont\",\"all\",\"just\",\"with\",\"are\",\"do\",\"not\",\"now\",\"like\",\"so\",\"was\",\"get\",\"youre\",\"can\",\"know\",\"one\",\"at\",\"thats\",\"up\",\"out\",\"here\",\"hey\",\"if\",\"homer\",\"right\",\"were\",\"go\",\"got\",\"he\",\"our\",\"how\",\"about\",\"bart\",\"ill\",\"there\",\"from\",\"see\",\"they\",\"good\",\"yeah\",\"as\",\"will\",\"think\",\"want\",\"why\",\"an\",\"cant\",\"look\",\"marge\",\"gonna\",\"little\",\"man\",\"back\",\"uh\",\"who\",\"dad\",\"okay\",\"some\",\"him\",\"time\",\"when\",\"us\",\"did\",\"come\",\"ive\",\"could\",\"take\",\"never\",\"his\",\"simpson\",\"say\",\"make\",\"lisa\",\"yes\",\"would\",\"hes\",\"or\",\"more\",\"by\",\"really\",\"been\",\"her\",\"love\",\"going\",\"lets\",\"theres\",\"has\",\"way\",\"down\",\"only\",\"too\",\"off\",\"then\",\"two\",\"where\",\"something\",\"mr\",\"am\",\"need\",\"sorry\",\"boy\",\"those\",\"had\",\"people\",\"over\",\"these\",\"tell\",\"day\",\"please\",\"sure\",\"them\",\"kids\",\"give\",\"let\",\"thing\",\"whats\",\"new\",\"didnt\",\"mom\",\"wait\",\"should\",\"she\",\"first\",\"great\",\"ever\",\"god\",\"better\",\"any\",\"stop\",\"sir\",\"into\",\"again\",\"even\",\"maybe\",\"life\",\"old\",\"help\",\"youve\",\"id\",\"thank\",\"home\",\"theyre\",\"than\",\"big\",\"mean\",\"because\",\"much\",\"made\",\"their\",\"said\",\"put\",\"still\",\"show\",\"work\",\"very\",\"money\",\"son\",\"school\",\"always\",\"youll\",\"call\",\"springfield\",\"three\",\"last\",\"ya\",\"thought\",\"gotta\",\"ah\",\"hello\",\"every\",\"name\",\"family\",\"guys\"],\"x\":[1.1448932886123657,0.8172382712364197,0.6128145456314087,1.101143717765808,1.2044270038604736,0.8286387920379639,1.6206436157226562,0.5443819165229797,0.906623125076294,0.7157239317893982,1.1666070222854614,1.375176191329956,1.3027664422988892,0.5927311182022095,0.9776584506034851,1.3079371452331543,0.6657471060752869,1.2508312463760376,0.9169740676879883,-1.268011450767517,0.787448525428772,1.1398643255233765,0.026302417740225792,1.0627219676971436,1.4701451063156128,0.6398746967315674,1.0629448890686035,0.24211186170578003,1.2134182453155518,0.5968532562255859,1.2026785612106323,1.536787986755371,0.9258154034614563,1.2894080877304077,1.0711251497268677,0.8946362137794495,1.129872441291809,0.32409048080444336,0.6988427042961121,0.7755542993545532,0.678834080696106,0.65175461769104,1.3243118524551392,1.3248482942581177,0.9373745918273926,0.6484397649765015,0.9638615250587463,1.1456894874572754,-1.5634725093841553,0.824874758720398,0.2269197702407837,0.49878326058387756,1.3668831586837769,0.8625883460044861,0.43418678641319275,0.751200258731842,1.51939857006073,0.8164688348770142,1.598850131034851,0.3944181203842163,1.1483864784240723,1.2915784120559692,1.4391835927963257,1.2226336002349854,1.0574852228164673,1.511070728302002,-0.1345091015100479,1.6320797204971313,1.7193913459777832,0.888218343257904,0.304500937461853,0.7011085152626038,1.4345076084136963,0.05637359246611595,-0.17461228370666504,0.036090005189180374,1.681963324546814,1.1275407075881958,1.178512454032898,1.3808701038360596,0.6524723172187805,0.968372106552124,0.23429057002067566,0.33090007305145264,1.219193458557129,0.5705975294113159,2.3627774715423584,1.024129867553711,0.9237632155418396,0.6467747688293457,0.7541275024414062,1.068766713142395,0.7960248589515686,0.6905094981193542,0.919597327709198,1.12428617477417,0.23334117233753204,1.032164216041565,1.1858346462249756,0.6311146020889282,0.8267500996589661,1.0395004749298096,0.9110392332077026,1.2453011274337769,4.4775824546813965,1.3190892934799194,0.8221707940101624,1.4777138233184814,1.0039377212524414,1.190377116203308,2.212639808654785,1.2042452096939087,1.4297351837158203,1.9110325574874878,1.0792866945266724,1.045754313468933,1.1640899181365967,1.297451376914978,1.1644054651260376,1.0307865142822266,1.3316726684570312,1.200379729270935,1.174157977104187,-5.346193313598633,0.7981558442115784,1.3111977577209473,0.4116908013820648,0.45091313123703003,1.135132908821106,1.0629998445510864,1.5274128913879395,1.4246412515640259,1.253977656364441,0.9493042230606079,1.2679054737091064,1.0145375728607178,0.815683901309967,0.9375891089439392,1.1838951110839844,0.9026424288749695,0.8079076409339905,1.0580158233642578,1.4963304996490479,6.767523288726807,0.3175901770591736,0.2209251970052719,-0.936805248260498,0.9797840118408203,0.8217874765396118,1.272369623184204,1.93913996219635,1.0746186971664429,-0.5919917225837708,2.370204210281372,2.0182151794433594,0.7241982817649841,1.0789293050765991,1.366462230682373,1.084298014640808,0.9767004251480103,0.9085001945495605,1.5287574529647827,1.1686967611312866,0.8959022164344788,1.0924729108810425,1.3066990375518799,-0.7893775701522827,1.1112123727798462,1.3240145444869995,3.9557743072509766,1.3909087181091309,0.8673964142799377,1.0889915227890015,1.1189371347427368,1.5014077425003052,1.2342966794967651,0.7967158555984497,1.0667686462402344,1.3699994087219238,1.3401925563812256,1.6355671882629395,2.073868989944458,1.9629775285720825,0.6845585107803345,1.3711880445480347,0.8876402974128723,1.2445231676101685,1.1464121341705322,1.7256348133087158,1.345626711845398,1.1263401508331299,0.8233141303062439,0.7182210683822632,0.05171931907534599,-1.1529619693756104,-3.278808832168579,1.3817780017852783,1.165749192237854,1.7829952239990234,0.9508986473083496],\"xaxis\":\"x\",\"y\":[-1.0741227865219116,-2.4170725345611572,-2.437407970428467,-1.621619462966919,-1.846752643585205,-1.5221421718597412,-0.9047160148620605,-2.227236747741699,-2.2004923820495605,-1.8411074876785278,-1.2222059965133667,-1.776124358177185,-1.9045979976654053,-2.2184622287750244,-1.7758023738861084,-1.5561869144439697,-2.4989020824432373,-2.197880983352661,-1.3254293203353882,-2.5243003368377686,-2.654252052307129,-2.168511152267456,-2.051396131515503,-2.4144773483276367,-2.3719329833984375,-2.6285345554351807,-1.9239091873168945,-2.9553496837615967,-1.6840975284576416,-2.2846407890319824,-1.5870548486709595,-2.702333927154541,-2.8488645553588867,-2.3838939666748047,-1.9504486322402954,-2.3547682762145996,-2.6652915477752686,-2.7921881675720215,-2.3538448810577393,-2.9247868061065674,-2.58440899848938,-3.234548568725586,-1.7357839345932007,-1.5413978099822998,-2.0454819202423096,-1.9993979930877686,-1.7403616905212402,-1.952110767364502,-3.49802827835083,-2.534445285797119,-3.0012857913970947,-1.999314546585083,-2.6454391479492188,-2.2284507751464844,-2.282451629638672,-2.6403257846832275,-1.545901894569397,-2.8500468730926514,-2.3154923915863037,-3.1699886322021484,-3.57563853263855,-2.153066396713257,-1.5333850383758545,-2.4410336017608643,-2.6101901531219482,-2.1055665016174316,-2.842712163925171,-1.987033724784851,-1.9410223960876465,-3.2093350887298584,-3.0632994174957275,-2.760300874710083,-1.863806128501892,-3.1347813606262207,-4.150706768035889,-3.159477710723877,-3.234281301498413,-4.7099151611328125,-2.3150627613067627,-1.6123178005218506,-2.5938663482666016,-2.4858455657958984,-2.974092960357666,-3.543940305709839,-1.8211580514907837,-2.3866310119628906,-2.166018486022949,-2.2266645431518555,-2.3083319664001465,-2.7478723526000977,-2.3204166889190674,-3.937403917312622,-2.740973949432373,-3.9962382316589355,-2.482419967651367,-1.88993239402771,-3.201133966445923,-2.9621760845184326,-2.3785459995269775,-2.8750672340393066,-2.4717302322387695,-2.901050567626953,-2.8506367206573486,-1.9251397848129272,-4.626083850860596,-1.7219769954681396,-3.093041181564331,-2.3377482891082764,-2.061708927154541,-3.6739718914031982,-3.563717842102051,-1.980506181716919,-2.270204544067383,-6.608068943023682,-2.059788465499878,-1.957598328590393,-2.0598559379577637,-2.6137125492095947,-1.6513084173202515,-2.076946258544922,-1.8564276695251465,-1.999144434928894,-3.465179443359375,-5.213129997253418,-2.896660804748535,-3.6683919429779053,-2.9460222721099854,-2.590829610824585,-2.392382860183716,-2.0702922344207764,-2.362161636352539,-1.8529611825942993,-2.3800296783447266,-3.509033441543579,-2.1843719482421875,-2.2186765670776367,-3.288632392883301,-2.3069751262664795,-2.3502795696258545,-2.3176350593566895,-2.418452739715576,-2.3642780780792236,-1.8095026016235352,-5.410695552825928,-3.085893154144287,-3.157139539718628,-6.609049320220947,-2.525383949279785,-2.7272415161132812,-1.762069582939148,-5.150759696960449,-2.711583375930786,-2.8530900478363037,-4.281731128692627,-2.6549060344696045,-2.7392308712005615,-2.46299409866333,-1.3645635843276978,-2.0599167346954346,-2.3632733821868896,-2.5236499309539795,-2.2647693157196045,-2.0882675647735596,-2.490311861038208,-3.897580623626709,-2.783053159713745,-0.44801801443099976,-1.5390722751617432,-2.7296223640441895,-4.777772426605225,-1.9796764850616455,-3.041905164718628,-2.419632911682129,-2.770077705383301,-2.1337149143218994,-1.8206695318222046,-2.7627480030059814,-2.2129762172698975,-2.3641090393066406,-2.216625690460205,-2.9860897064208984,-2.9050920009613037,-3.105421781539917,-3.0166265964508057,-2.1002330780029297,-2.3464407920837402,-2.8982322216033936,-2.2919185161590576,-0.7429216504096985,-1.2869023084640503,-2.280555248260498,-2.76995587348938,-2.717200756072998,-2.8891050815582275,-3.1699116230010986,-1.925845742225647,-1.6987576484680176,-4.676459789276123,-3.2625341415405273,-2.6480062007904053],\"yaxis\":\"y\",\"type\":\"scatter\"}],                        {\"template\":{\"data\":{\"histogram2dcontour\":[{\"type\":\"histogram2dcontour\",\"colorbar\":{\"outlinewidth\":0,\"ticks\":\"\"},\"colorscale\":[[0.0,\"#0d0887\"],[0.1111111111111111,\"#46039f\"],[0.2222222222222222,\"#7201a8\"],[0.3333333333333333,\"#9c179e\"],[0.4444444444444444,\"#bd3786\"],[0.5555555555555556,\"#d8576b\"],[0.6666666666666666,\"#ed7953\"],[0.7777777777777778,\"#fb9f3a\"],[0.8888888888888888,\"#fdca26\"],[1.0,\"#f0f921\"]]}],\"choropleth\":[{\"type\":\"choropleth\",\"colorbar\":{\"outlinewidth\":0,\"ticks\":\"\"}}],\"histogram2d\":[{\"type\":\"histogram2d\",\"colorbar\":{\"outlinewidth\":0,\"ticks\":\"\"},\"colorscale\":[[0.0,\"#0d0887\"],[0.1111111111111111,\"#46039f\"],[0.2222222222222222,\"#7201a8\"],[0.3333333333333333,\"#9c179e\"],[0.4444444444444444,\"#bd3786\"],[0.5555555555555556,\"#d8576b\"],[0.6666666666666666,\"#ed7953\"],[0.7777777777777778,\"#fb9f3a\"],[0.8888888888888888,\"#fdca26\"],[1.0,\"#f0f921\"]]}],\"heatmap\":[{\"type\":\"heatmap\",\"colorbar\":{\"outlinewidth\":0,\"ticks\":\"\"},\"colorscale\":[[0.0,\"#0d0887\"],[0.1111111111111111,\"#46039f\"],[0.2222222222222222,\"#7201a8\"],[0.3333333333333333,\"#9c179e\"],[0.4444444444444444,\"#bd3786\"],[0.5555555555555556,\"#d8576b\"],[0.6666666666666666,\"#ed7953\"],[0.7777777777777778,\"#fb9f3a\"],[0.8888888888888888,\"#fdca26\"],[1.0,\"#f0f921\"]]}],\"heatmapgl\":[{\"type\":\"heatmapgl\",\"colorbar\":{\"outlinewidth\":0,\"ticks\":\"\"},\"colorscale\":[[0.0,\"#0d0887\"],[0.1111111111111111,\"#46039f\"],[0.2222222222222222,\"#7201a8\"],[0.3333333333333333,\"#9c179e\"],[0.4444444444444444,\"#bd3786\"],[0.5555555555555556,\"#d8576b\"],[0.6666666666666666,\"#ed7953\"],[0.7777777777777778,\"#fb9f3a\"],[0.8888888888888888,\"#fdca26\"],[1.0,\"#f0f921\"]]}],\"contourcarpet\":[{\"type\":\"contourcarpet\",\"colorbar\":{\"outlinewidth\":0,\"ticks\":\"\"}}],\"contour\":[{\"type\":\"contour\",\"colorbar\":{\"outlinewidth\":0,\"ticks\":\"\"},\"colorscale\":[[0.0,\"#0d0887\"],[0.1111111111111111,\"#46039f\"],[0.2222222222222222,\"#7201a8\"],[0.3333333333333333,\"#9c179e\"],[0.4444444444444444,\"#bd3786\"],[0.5555555555555556,\"#d8576b\"],[0.6666666666666666,\"#ed7953\"],[0.7777777777777778,\"#fb9f3a\"],[0.8888888888888888,\"#fdca26\"],[1.0,\"#f0f921\"]]}],\"surface\":[{\"type\":\"surface\",\"colorbar\":{\"outlinewidth\":0,\"ticks\":\"\"},\"colorscale\":[[0.0,\"#0d0887\"],[0.1111111111111111,\"#46039f\"],[0.2222222222222222,\"#7201a8\"],[0.3333333333333333,\"#9c179e\"],[0.4444444444444444,\"#bd3786\"],[0.5555555555555556,\"#d8576b\"],[0.6666666666666666,\"#ed7953\"],[0.7777777777777778,\"#fb9f3a\"],[0.8888888888888888,\"#fdca26\"],[1.0,\"#f0f921\"]]}],\"mesh3d\":[{\"type\":\"mesh3d\",\"colorbar\":{\"outlinewidth\":0,\"ticks\":\"\"}}],\"scatter\":[{\"fillpattern\":{\"fillmode\":\"overlay\",\"size\":10,\"solidity\":0.2},\"type\":\"scatter\"}],\"parcoords\":[{\"type\":\"parcoords\",\"line\":{\"colorbar\":{\"outlinewidth\":0,\"ticks\":\"\"}}}],\"scatterpolargl\":[{\"type\":\"scatterpolargl\",\"marker\":{\"colorbar\":{\"outlinewidth\":0,\"ticks\":\"\"}}}],\"bar\":[{\"error_x\":{\"color\":\"#2a3f5f\"},\"error_y\":{\"color\":\"#2a3f5f\"},\"marker\":{\"line\":{\"color\":\"#E5ECF6\",\"width\":0.5},\"pattern\":{\"fillmode\":\"overlay\",\"size\":10,\"solidity\":0.2}},\"type\":\"bar\"}],\"scattergeo\":[{\"type\":\"scattergeo\",\"marker\":{\"colorbar\":{\"outlinewidth\":0,\"ticks\":\"\"}}}],\"scatterpolar\":[{\"type\":\"scatterpolar\",\"marker\":{\"colorbar\":{\"outlinewidth\":0,\"ticks\":\"\"}}}],\"histogram\":[{\"marker\":{\"pattern\":{\"fillmode\":\"overlay\",\"size\":10,\"solidity\":0.2}},\"type\":\"histogram\"}],\"scattergl\":[{\"type\":\"scattergl\",\"marker\":{\"colorbar\":{\"outlinewidth\":0,\"ticks\":\"\"}}}],\"scatter3d\":[{\"type\":\"scatter3d\",\"line\":{\"colorbar\":{\"outlinewidth\":0,\"ticks\":\"\"}},\"marker\":{\"colorbar\":{\"outlinewidth\":0,\"ticks\":\"\"}}}],\"scattermapbox\":[{\"type\":\"scattermapbox\",\"marker\":{\"colorbar\":{\"outlinewidth\":0,\"ticks\":\"\"}}}],\"scatterternary\":[{\"type\":\"scatterternary\",\"marker\":{\"colorbar\":{\"outlinewidth\":0,\"ticks\":\"\"}}}],\"scattercarpet\":[{\"type\":\"scattercarpet\",\"marker\":{\"colorbar\":{\"outlinewidth\":0,\"ticks\":\"\"}}}],\"carpet\":[{\"aaxis\":{\"endlinecolor\":\"#2a3f5f\",\"gridcolor\":\"white\",\"linecolor\":\"white\",\"minorgridcolor\":\"white\",\"startlinecolor\":\"#2a3f5f\"},\"baxis\":{\"endlinecolor\":\"#2a3f5f\",\"gridcolor\":\"white\",\"linecolor\":\"white\",\"minorgridcolor\":\"white\",\"startlinecolor\":\"#2a3f5f\"},\"type\":\"carpet\"}],\"table\":[{\"cells\":{\"fill\":{\"color\":\"#EBF0F8\"},\"line\":{\"color\":\"white\"}},\"header\":{\"fill\":{\"color\":\"#C8D4E3\"},\"line\":{\"color\":\"white\"}},\"type\":\"table\"}],\"barpolar\":[{\"marker\":{\"line\":{\"color\":\"#E5ECF6\",\"width\":0.5},\"pattern\":{\"fillmode\":\"overlay\",\"size\":10,\"solidity\":0.2}},\"type\":\"barpolar\"}],\"pie\":[{\"automargin\":true,\"type\":\"pie\"}]},\"layout\":{\"autotypenumbers\":\"strict\",\"colorway\":[\"#636efa\",\"#EF553B\",\"#00cc96\",\"#ab63fa\",\"#FFA15A\",\"#19d3f3\",\"#FF6692\",\"#B6E880\",\"#FF97FF\",\"#FECB52\"],\"font\":{\"color\":\"#2a3f5f\"},\"hovermode\":\"closest\",\"hoverlabel\":{\"align\":\"left\"},\"paper_bgcolor\":\"white\",\"plot_bgcolor\":\"#E5ECF6\",\"polar\":{\"bgcolor\":\"#E5ECF6\",\"angularaxis\":{\"gridcolor\":\"white\",\"linecolor\":\"white\",\"ticks\":\"\"},\"radialaxis\":{\"gridcolor\":\"white\",\"linecolor\":\"white\",\"ticks\":\"\"}},\"ternary\":{\"bgcolor\":\"#E5ECF6\",\"aaxis\":{\"gridcolor\":\"white\",\"linecolor\":\"white\",\"ticks\":\"\"},\"baxis\":{\"gridcolor\":\"white\",\"linecolor\":\"white\",\"ticks\":\"\"},\"caxis\":{\"gridcolor\":\"white\",\"linecolor\":\"white\",\"ticks\":\"\"}},\"coloraxis\":{\"colorbar\":{\"outlinewidth\":0,\"ticks\":\"\"}},\"colorscale\":{\"sequential\":[[0.0,\"#0d0887\"],[0.1111111111111111,\"#46039f\"],[0.2222222222222222,\"#7201a8\"],[0.3333333333333333,\"#9c179e\"],[0.4444444444444444,\"#bd3786\"],[0.5555555555555556,\"#d8576b\"],[0.6666666666666666,\"#ed7953\"],[0.7777777777777778,\"#fb9f3a\"],[0.8888888888888888,\"#fdca26\"],[1.0,\"#f0f921\"]],\"sequentialminus\":[[0.0,\"#0d0887\"],[0.1111111111111111,\"#46039f\"],[0.2222222222222222,\"#7201a8\"],[0.3333333333333333,\"#9c179e\"],[0.4444444444444444,\"#bd3786\"],[0.5555555555555556,\"#d8576b\"],[0.6666666666666666,\"#ed7953\"],[0.7777777777777778,\"#fb9f3a\"],[0.8888888888888888,\"#fdca26\"],[1.0,\"#f0f921\"]],\"diverging\":[[0,\"#8e0152\"],[0.1,\"#c51b7d\"],[0.2,\"#de77ae\"],[0.3,\"#f1b6da\"],[0.4,\"#fde0ef\"],[0.5,\"#f7f7f7\"],[0.6,\"#e6f5d0\"],[0.7,\"#b8e186\"],[0.8,\"#7fbc41\"],[0.9,\"#4d9221\"],[1,\"#276419\"]]},\"xaxis\":{\"gridcolor\":\"white\",\"linecolor\":\"white\",\"ticks\":\"\",\"title\":{\"standoff\":15},\"zerolinecolor\":\"white\",\"automargin\":true,\"zerolinewidth\":2},\"yaxis\":{\"gridcolor\":\"white\",\"linecolor\":\"white\",\"ticks\":\"\",\"title\":{\"standoff\":15},\"zerolinecolor\":\"white\",\"automargin\":true,\"zerolinewidth\":2},\"scene\":{\"xaxis\":{\"backgroundcolor\":\"#E5ECF6\",\"gridcolor\":\"white\",\"linecolor\":\"white\",\"showbackground\":true,\"ticks\":\"\",\"zerolinecolor\":\"white\",\"gridwidth\":2},\"yaxis\":{\"backgroundcolor\":\"#E5ECF6\",\"gridcolor\":\"white\",\"linecolor\":\"white\",\"showbackground\":true,\"ticks\":\"\",\"zerolinecolor\":\"white\",\"gridwidth\":2},\"zaxis\":{\"backgroundcolor\":\"#E5ECF6\",\"gridcolor\":\"white\",\"linecolor\":\"white\",\"showbackground\":true,\"ticks\":\"\",\"zerolinecolor\":\"white\",\"gridwidth\":2}},\"shapedefaults\":{\"line\":{\"color\":\"#2a3f5f\"}},\"annotationdefaults\":{\"arrowcolor\":\"#2a3f5f\",\"arrowhead\":0,\"arrowwidth\":1},\"geo\":{\"bgcolor\":\"white\",\"landcolor\":\"#E5ECF6\",\"subunitcolor\":\"white\",\"showland\":true,\"showlakes\":true,\"lakecolor\":\"white\"},\"title\":{\"x\":0.05},\"mapbox\":{\"style\":\"light\"}}},\"xaxis\":{\"anchor\":\"y\",\"domain\":[0.0,1.0],\"title\":{\"text\":\"x\"}},\"yaxis\":{\"anchor\":\"x\",\"domain\":[0.0,1.0],\"title\":{\"text\":\"y\"}},\"legend\":{\"tracegroupgap\":0},\"margin\":{\"t\":60}},                        {\"responsive\": true}                    ).then(function(){\n",
              "                            \n",
              "var gd = document.getElementById('c7eb0f68-3c08-494e-8edb-e33de7d7f73b');\n",
              "var x = new MutationObserver(function (mutations, observer) {{\n",
              "        var display = window.getComputedStyle(gd).display;\n",
              "        if (!display || display === 'none') {{\n",
              "            console.log([gd, 'removed!']);\n",
              "            Plotly.purge(gd);\n",
              "            observer.disconnect();\n",
              "        }}\n",
              "}});\n",
              "\n",
              "// Listen for the removal of the full notebook cells\n",
              "var notebookContainer = gd.closest('#notebook-container');\n",
              "if (notebookContainer) {{\n",
              "    x.observe(notebookContainer, {childList: true});\n",
              "}}\n",
              "\n",
              "// Listen for the clearing of the current output cell\n",
              "var outputEl = gd.closest('.output');\n",
              "if (outputEl) {{\n",
              "    x.observe(outputEl, {childList: true});\n",
              "}}\n",
              "\n",
              "                        })                };                            </script>        </div>\n",
              "</body>\n",
              "</html>"
            ]
          },
          "metadata": {}
        }
      ],
      "source": [
        "# Graficar los embedddings en 2D\n",
        "import plotly.graph_objects as go\n",
        "import plotly.express as px\n",
        "\n",
        "x_vals, y_vals, labels = reduce_dimensions(w2v_model)\n",
        "\n",
        "MAX_WORDS=200\n",
        "fig = px.scatter(x=x_vals[:MAX_WORDS], y=y_vals[:MAX_WORDS], text=labels[:MAX_WORDS])\n",
        "fig.show(renderer=\"colab\") # esto para plotly en colab"
      ]
    },
    {
      "cell_type": "markdown",
      "metadata": {
        "id": "yMM_SHSaZ9N-"
      },
      "source": [
        "### Alumno"
      ]
    },
    {
      "cell_type": "markdown",
      "metadata": {
        "id": "WivQZ3ZCZ9N_"
      },
      "source": [
        "- Crear sus propios vectores con Gensim basado en lo visto en clase con otro dataset.\n",
        "- Probar términos de interés y explicar similitudes en el espacio de embeddings (sacar conclusiones entre palabras similitudes y diferencias).\n",
        "- Graficarlos.\n",
        "- Obtener conclusiones."
      ]
    }
  ],
  "metadata": {
    "colab": {
      "provenance": []
    },
    "kernelspec": {
      "display_name": "Python 3 (ipykernel)",
      "language": "python",
      "name": "python3"
    },
    "language_info": {
      "codemirror_mode": {
        "name": "ipython",
        "version": 3
      },
      "file_extension": ".py",
      "mimetype": "text/x-python",
      "name": "python",
      "nbconvert_exporter": "python",
      "pygments_lexer": "ipython3",
      "version": "3.10.6"
    }
  },
  "nbformat": 4,
  "nbformat_minor": 0
}