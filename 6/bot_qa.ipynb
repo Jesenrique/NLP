{
  "cells": [
    {
      "cell_type": "markdown",
      "metadata": {
        "id": "pfa39F4lsLf3"
      },
      "source": [
        "<img src=\"https://github.com/hernancontigiani/ceia_memorias_especializacion/raw/master/Figures/logoFIUBA.jpg\" width=\"500\" align=\"center\">\n",
        "\n",
        "\n",
        "# Procesamiento de lenguaje natural\n",
        "## LSTM Bot QA"
      ]
    },
    {
      "cell_type": "markdown",
      "metadata": {
        "id": "ZqO0PRcFsPTe"
      },
      "source": [
        "### Datos\n",
        "El objecto es utilizar datos disponibles del challenge ConvAI2 (Conversational Intelligence Challenge 2) de conversaciones en inglés. Se construirá un BOT para responder a preguntas del usuario (QA).\\\n",
        "[LINK](http://convai.io/data/)"
      ]
    },
    {
      "cell_type": "code",
      "execution_count": 1,
      "metadata": {
        "id": "bDFC0I3j9oFD"
      },
      "outputs": [],
      "source": [
        "!pip install --upgrade --no-cache-dir gdown --quiet"
      ]
    },
    {
      "cell_type": "code",
      "execution_count": 2,
      "metadata": {
        "id": "cq3YXak9sGHd"
      },
      "outputs": [],
      "source": [
        "import re\n",
        "\n",
        "import numpy as np\n",
        "import pandas as pd\n",
        "\n",
        "import tensorflow as tf\n",
        "from keras.preprocessing.text import one_hot\n",
        "from tensorflow.keras.utils import pad_sequences\n",
        "from keras.models import Sequential\n",
        "from keras.layers.core import Activation, Dropout, Dense\n",
        "from keras.layers import Flatten, LSTM, SimpleRNN\n",
        "from keras.models import Model\n",
        "from tensorflow.keras.layers import Embedding\n",
        "from sklearn.model_selection import train_test_split\n",
        "from keras.preprocessing.text import Tokenizer\n",
        "from keras.layers import Input"
      ]
    },
    {
      "cell_type": "code",
      "execution_count": 3,
      "metadata": {
        "id": "RHNkUaPp6aYq",
        "colab": {
          "base_uri": "https://localhost:8080/"
        },
        "outputId": "e8686892-a784-4d22-f6ad-e9a90d5816c1"
      },
      "outputs": [
        {
          "output_type": "stream",
          "name": "stderr",
          "text": [
            "Downloading...\n",
            "From: https://drive.google.com/uc?id=1awUxYwImF84MIT5-jCaYAPe2QwSgS1hN&export=download\n",
            "To: /content/data_volunteers.json\n",
            "100%|██████████| 2.58M/2.58M [00:00<00:00, 55.6MB/s]\n"
          ]
        }
      ],
      "source": [
        "# Descargar la carpeta de dataset\n",
        "import os\n",
        "import gdown\n",
        "if os.access('data_volunteers.json', os.F_OK) is False:\n",
        "    url = 'https://drive.google.com/uc?id=1awUxYwImF84MIT5-jCaYAPe2QwSgS1hN&export=download'\n",
        "    output = 'data_volunteers.json'\n",
        "    gdown.download(url, output, quiet=False)\n",
        "else:\n",
        "    print(\"El dataset ya se encuentra descargado\")"
      ]
    },
    {
      "cell_type": "code",
      "execution_count": 4,
      "metadata": {
        "id": "WZy1-wgG-Rp7"
      },
      "outputs": [],
      "source": [
        "# dataset_file\n",
        "import json\n",
        "\n",
        "text_file = \"data_volunteers.json\"\n",
        "with open(text_file) as f:\n",
        "    data = json.load(f) # la variable data será un diccionario\n",
        "\n"
      ]
    },
    {
      "cell_type": "code",
      "execution_count": 5,
      "metadata": {
        "id": "ue5qd54S-eew",
        "colab": {
          "base_uri": "https://localhost:8080/"
        },
        "outputId": "bf073804-61d2-4f9a-99d6-82e7448f09d8"
      },
      "outputs": [
        {
          "output_type": "execute_result",
          "data": {
            "text/plain": [
              "dict_keys(['dialog', 'start_time', 'end_time', 'bot_profile', 'user_profile', 'eval_score', 'profile_match', 'participant1_id', 'participant2_id'])"
            ]
          },
          "metadata": {},
          "execution_count": 5
        }
      ],
      "source": [
        "# Observar los campos disponibles en cada linea del dataset\n",
        "data[0].keys()"
      ]
    },
    {
      "cell_type": "code",
      "execution_count": 6,
      "metadata": {
        "id": "jHBRAXPl-3dz",
        "colab": {
          "base_uri": "https://localhost:8080/"
        },
        "outputId": "0d46e832-f9e6-462a-aee8-90be6a4e9068"
      },
      "outputs": [
        {
          "output_type": "stream",
          "name": "stdout",
          "text": [
            "Cantidad de rows utilizadas: 6033\n"
          ]
        }
      ],
      "source": [
        "chat_in = []\n",
        "chat_out = []\n",
        "\n",
        "input_sentences = []\n",
        "output_sentences = []\n",
        "output_sentences_inputs = []\n",
        "max_len = 30\n",
        "\n",
        "def clean_text(txt):\n",
        "    txt = txt.lower()\n",
        "    txt.replace(\"\\'d\", \" had\")\n",
        "    txt.replace(\"\\'s\", \" is\")\n",
        "    txt.replace(\"\\'m\", \" am\")\n",
        "    txt.replace(\"don't\", \"do not\")\n",
        "    txt = re.sub(r'\\W+', ' ', txt)\n",
        "\n",
        "    return txt\n",
        "\n",
        "for line in data:\n",
        "    for i in range(len(line['dialog'])-1):\n",
        "        # vamos separando el texto en \"preguntas\" (chat_in)\n",
        "        # y \"respuestas\" (chat_out)\n",
        "        chat_in = clean_text(line['dialog'][i]['text'])\n",
        "        chat_out = clean_text(line['dialog'][i+1]['text'])\n",
        "\n",
        "        if len(chat_in) >= max_len or len(chat_out) >= max_len:\n",
        "            continue\n",
        "\n",
        "        input_sentence, output = chat_in, chat_out\n",
        "\n",
        "        # output sentence (decoder_output) tiene <eos>\n",
        "        output_sentence = output + ' <eos>'\n",
        "        # output sentence input (decoder_input) tiene <sos>\n",
        "        output_sentence_input = '<sos> ' + output\n",
        "\n",
        "        input_sentences.append(input_sentence)\n",
        "        output_sentences.append(output_sentence)\n",
        "        output_sentences_inputs.append(output_sentence_input)\n",
        "\n",
        "print(\"Cantidad de rows utilizadas:\", len(input_sentences))"
      ]
    },
    {
      "cell_type": "code",
      "source": [
        "input_sentences[:10]"
      ],
      "metadata": {
        "colab": {
          "base_uri": "https://localhost:8080/"
        },
        "id": "YqRwmv-TrYWM",
        "outputId": "3aa43cd3-4e09-48b1-80d9-201008f2f249"
      },
      "execution_count": 7,
      "outputs": [
        {
          "output_type": "execute_result",
          "data": {
            "text/plain": [
              "['hello ',\n",
              " 'hi how are you ',\n",
              " 'hi ',\n",
              " 'hi ',\n",
              " 'hi ',\n",
              " 'where are you working ',\n",
              " 'bro ',\n",
              " 'where are you from ',\n",
              " 'i am from russia and you ',\n",
              " 'i hate them most of the time ']"
            ]
          },
          "metadata": {},
          "execution_count": 7
        }
      ]
    },
    {
      "cell_type": "code",
      "source": [
        "output_sentences[:10]"
      ],
      "metadata": {
        "colab": {
          "base_uri": "https://localhost:8080/"
        },
        "id": "yQddVPMbroU0",
        "outputId": "9c3d68ab-91fa-4a0c-b8a9-7304ce553e2e"
      },
      "execution_count": 8,
      "outputs": [
        {
          "output_type": "execute_result",
          "data": {
            "text/plain": [
              "['hi how are you  <eos>',\n",
              " 'not bad and you  <eos>',\n",
              " 'hello  <eos>',\n",
              " 'hello  <eos>',\n",
              " 'hello how are you today  <eos>',\n",
              " 'bro  <eos>',\n",
              " 'where are you from  <eos>',\n",
              " 'i am from russia and you  <eos>',\n",
              " 'i am from the united states  <eos>',\n",
              " 'you are racist  <eos>']"
            ]
          },
          "metadata": {},
          "execution_count": 8
        }
      ]
    },
    {
      "cell_type": "code",
      "execution_count": 9,
      "metadata": {
        "id": "07L1qj8pC_l6",
        "colab": {
          "base_uri": "https://localhost:8080/"
        },
        "outputId": "555cbc45-e338-4bfc-b8b1-66f6084271a8"
      },
      "outputs": [
        {
          "output_type": "execute_result",
          "data": {
            "text/plain": [
              "('hi how are you ', 'not bad and you  <eos>', '<sos> not bad and you ')"
            ]
          },
          "metadata": {},
          "execution_count": 9
        }
      ],
      "source": [
        "input_sentences[1], output_sentences[1], output_sentences_inputs[1]"
      ]
    },
    {
      "cell_type": "markdown",
      "metadata": {
        "id": "8P-ynUNP5xp6"
      },
      "source": [
        "### 2 - Preprocesamiento\n",
        "Realizar el preprocesamiento necesario para obtener:\n",
        "- word2idx_inputs, max_input_len\n",
        "- word2idx_outputs, max_out_len, num_words_output\n",
        "- encoder_input_sequences, decoder_output_sequences, decoder_targets"
      ]
    },
    {
      "cell_type": "code",
      "source": [
        "# Definir el tamaño máximo del vocabulario\n",
        "MAX_VOCAB_SIZE = 8000"
      ],
      "metadata": {
        "id": "FRhuyl-gNXgF"
      },
      "execution_count": 10,
      "outputs": []
    },
    {
      "cell_type": "code",
      "source": [
        "# Tokenizar las palabras con el Tokenizer de Keras\n",
        "# Definir una máxima cantidad de palabras a utilizar:\n",
        "# - num_words --> the maximum number of words to keep, based on word frequency.\n",
        "# - Only the most common num_words-1 words will be kept.\n",
        "from keras.preprocessing.text import Tokenizer\n",
        "\n",
        "# tokenizador de inglés\n",
        "input_tokenizer = Tokenizer(num_words=MAX_VOCAB_SIZE)\n",
        "input_tokenizer.fit_on_texts(input_sentences)\n",
        "input_integer_seq = input_tokenizer.texts_to_sequences(input_sentences)\n",
        "\n",
        "word2idx_inputs = input_tokenizer.word_index\n",
        "print(\"Palabras en el vocabulario:\", len(word2idx_inputs))\n",
        "\n",
        "max_input_len = max(len(sen) for sen in input_integer_seq)\n",
        "print(\"Sentencia de entrada más larga:\", max_input_len)"
      ],
      "metadata": {
        "colab": {
          "base_uri": "https://localhost:8080/"
        },
        "id": "2GjPGCAgNYe1",
        "outputId": "db433640-aa31-43d4-e15f-6979477d0129"
      },
      "execution_count": 11,
      "outputs": [
        {
          "output_type": "stream",
          "name": "stdout",
          "text": [
            "Palabras en el vocabulario: 1799\n",
            "Sentencia de entrada más larga: 9\n"
          ]
        }
      ]
    },
    {
      "cell_type": "code",
      "source": [
        "# tokenizador de español\n",
        "# A los filtros de símbolos del Tokenizer agregamos el \"¿\",\n",
        "# sacamos los \"<>\" para que no afectar nuestros tokens\n",
        "output_tokenizer = Tokenizer(num_words=MAX_VOCAB_SIZE, filters='!\"#$%&()*+,-./:;=¿?@[\\\\]^_`{|}~\\t\\n')\n",
        "output_tokenizer.fit_on_texts([\"<sos>\", \"<eos>\"] + output_sentences)\n",
        "output_integer_seq = output_tokenizer.texts_to_sequences(output_sentences)\n",
        "output_input_integer_seq = output_tokenizer.texts_to_sequences(output_sentences_inputs)\n",
        "\n",
        "word2idx_outputs = output_tokenizer.word_index\n",
        "print(\"Palabras en el vocabulario:\", len(word2idx_outputs))\n",
        "\n",
        "num_words_output = min(len(word2idx_outputs) + 1, MAX_VOCAB_SIZE)\n",
        "# Se suma 1 para incluir el token de palabra desconocida\n",
        "\n",
        "max_out_len = max(len(sen) for sen in output_integer_seq)\n",
        "print(\"Sentencia de salida más larga:\", max_out_len)"
      ],
      "metadata": {
        "colab": {
          "base_uri": "https://localhost:8080/"
        },
        "id": "doGw2K86QFKu",
        "outputId": "5f548cc9-5279-417c-8ccd-69ace2cf601f"
      },
      "execution_count": 12,
      "outputs": [
        {
          "output_type": "stream",
          "name": "stdout",
          "text": [
            "Palabras en el vocabulario: 1806\n",
            "Sentencia de salida más larga: 10\n"
          ]
        }
      ]
    },
    {
      "cell_type": "code",
      "source": [
        "print(\"Cantidad de rows del dataset:\", len(input_integer_seq))\n",
        "\n",
        "encoder_input_sequences = pad_sequences(input_integer_seq, maxlen=max_input_len)\n",
        "print(\"encoder_input_sequences shape:\", encoder_input_sequences.shape)\n",
        "\n",
        "decoder_input_sequences = pad_sequences(output_input_integer_seq, maxlen=max_out_len, padding='post')\n",
        "print(\"decoder_input_sequences shape:\", decoder_input_sequences.shape)"
      ],
      "metadata": {
        "colab": {
          "base_uri": "https://localhost:8080/"
        },
        "id": "QmWEakDFOQqu",
        "outputId": "930b9bd3-aeab-4993-8ea0-6bfda16488b9"
      },
      "execution_count": 13,
      "outputs": [
        {
          "output_type": "stream",
          "name": "stdout",
          "text": [
            "Cantidad de rows del dataset: 6033\n",
            "encoder_input_sequences shape: (6033, 9)\n",
            "decoder_input_sequences shape: (6033, 10)\n"
          ]
        }
      ]
    },
    {
      "cell_type": "code",
      "source": [
        "from keras.utils.np_utils import to_categorical\n",
        "decoder_output_sequences = pad_sequences(output_integer_seq, maxlen=max_out_len, padding='post')\n",
        "decoder_targets = to_categorical(decoder_output_sequences, num_classes=num_words_output)\n",
        "decoder_targets.shape"
      ],
      "metadata": {
        "colab": {
          "base_uri": "https://localhost:8080/"
        },
        "id": "PKBDAjeKRKR-",
        "outputId": "f31d895f-8f0f-4aba-e1e7-91287f696d13"
      },
      "execution_count": 14,
      "outputs": [
        {
          "output_type": "execute_result",
          "data": {
            "text/plain": [
              "(6033, 10, 1807)"
            ]
          },
          "metadata": {},
          "execution_count": 14
        }
      ]
    },
    {
      "cell_type": "markdown",
      "metadata": {
        "id": "_CJIsLBbj6rg"
      },
      "source": [
        "### 3 - Preparar los embeddings\n",
        "Utilizar los embeddings de Glove o FastText para transformar los tokens de entrada en vectores"
      ]
    },
    {
      "cell_type": "code",
      "source": [
        "# Descargar los embeddings desde un google drive (es la forma más rápida)\n",
        "# NOTA: No hay garantía de que estos links perduren, en caso de que no estén\n",
        "# disponibles descargar de la página oficial como se explica en el siguiente bloque de código\n",
        "import os\n",
        "import gdown\n",
        "if os.access('gloveembedding.pkl', os.F_OK) is False:\n",
        "    url = 'https://drive.google.com/uc?id=1KY6avD5I1eI2dxQzMkR3WExwKwRq2g94&export=download'\n",
        "    output = 'gloveembedding.pkl'\n",
        "    gdown.download(url, output, quiet=False)\n",
        "else:\n",
        "    print(\"Los embeddings gloveembedding.pkl ya están descargados\")"
      ],
      "metadata": {
        "colab": {
          "base_uri": "https://localhost:8080/"
        },
        "id": "VlNm86P0RTbc",
        "outputId": "0b228b53-714c-489d-8e2b-062f3bd9be88"
      },
      "execution_count": 15,
      "outputs": [
        {
          "output_type": "stream",
          "name": "stderr",
          "text": [
            "Downloading...\n",
            "From (uriginal): https://drive.google.com/uc?id=1KY6avD5I1eI2dxQzMkR3WExwKwRq2g94&export=download\n",
            "From (redirected): https://drive.google.com/uc?id=1KY6avD5I1eI2dxQzMkR3WExwKwRq2g94&export=download&confirm=t&uuid=9fdf5ce6-5d78-4a08-9717-b58105ae8e4b\n",
            "To: /content/gloveembedding.pkl\n",
            "100%|██████████| 525M/525M [00:04<00:00, 111MB/s]\n"
          ]
        }
      ]
    },
    {
      "cell_type": "code",
      "source": [
        "!pip install fastText"
      ],
      "metadata": {
        "colab": {
          "base_uri": "https://localhost:8080/"
        },
        "id": "3kYHjb1Z22sa",
        "outputId": "96feffe8-2a98-4515-8d20-c05326c6fc7b"
      },
      "execution_count": 16,
      "outputs": [
        {
          "output_type": "stream",
          "name": "stdout",
          "text": [
            "Collecting fastText\n",
            "  Downloading fasttext-0.9.2.tar.gz (68 kB)\n",
            "\u001b[?25l     \u001b[90m━━━━━━━━━━━━━━━━━━━━━━━━━━━━━━━━━━━━━━━━\u001b[0m \u001b[32m0.0/68.8 kB\u001b[0m \u001b[31m?\u001b[0m eta \u001b[36m-:--:--\u001b[0m\r\u001b[2K     \u001b[91m━━━━━━━━━━━━━━━━━━━━━━━━━━━━━━━━━━━\u001b[0m\u001b[91m╸\u001b[0m\u001b[90m━━━━\u001b[0m \u001b[32m61.4/68.8 kB\u001b[0m \u001b[31m1.8 MB/s\u001b[0m eta \u001b[36m0:00:01\u001b[0m\r\u001b[2K     \u001b[90m━━━━━━━━━━━━━━━━━━━━━━━━━━━━━━━━━━━━━━━━\u001b[0m \u001b[32m68.8/68.8 kB\u001b[0m \u001b[31m1.6 MB/s\u001b[0m eta \u001b[36m0:00:00\u001b[0m\n",
            "\u001b[?25h  Preparing metadata (setup.py) ... \u001b[?25l\u001b[?25hdone\n",
            "Collecting pybind11>=2.2 (from fastText)\n",
            "  Using cached pybind11-2.11.1-py3-none-any.whl (227 kB)\n",
            "Requirement already satisfied: setuptools>=0.7.0 in /usr/local/lib/python3.10/dist-packages (from fastText) (67.7.2)\n",
            "Requirement already satisfied: numpy in /usr/local/lib/python3.10/dist-packages (from fastText) (1.23.5)\n",
            "Building wheels for collected packages: fastText\n",
            "  Building wheel for fastText (setup.py) ... \u001b[?25l\u001b[?25hdone\n",
            "  Created wheel for fastText: filename=fasttext-0.9.2-cp310-cp310-linux_x86_64.whl size=4199766 sha256=582f70fbc85200c6de2b979d62e9095a4a7014fe7d646953d207a99a1c41f105\n",
            "  Stored in directory: /root/.cache/pip/wheels/a5/13/75/f811c84a8ab36eedbaef977a6a58a98990e8e0f1967f98f394\n",
            "Successfully built fastText\n",
            "Installing collected packages: pybind11, fastText\n",
            "Successfully installed fastText-0.9.2 pybind11-2.11.1\n"
          ]
        }
      ]
    },
    {
      "cell_type": "code",
      "source": [
        "!curl -L -o 'fasttext.pkl' 'https://drive.google.com/u/0/uc?id=1Qi1r-u5lsEsNqRSxLrpNOqQ3B_ufltCa&export=download&confirm=t'"
      ],
      "metadata": {
        "colab": {
          "base_uri": "https://localhost:8080/"
        },
        "id": "9ro9Zt5z2jRS",
        "outputId": "979817be-8141-460c-8fbb-3fb31237acee"
      },
      "execution_count": 17,
      "outputs": [
        {
          "output_type": "stream",
          "name": "stdout",
          "text": [
            "  % Total    % Received % Xferd  Average Speed   Time    Time     Time  Current\n",
            "                                 Dload  Upload   Total   Spent    Left  Speed\n",
            "\r  0     0    0     0    0     0      0      0 --:--:-- --:--:-- --:--:--     0\r  0     0    0     0    0     0      0      0 --:--:-- --:--:-- --:--:--     0\n",
            "  0     0    0     0    0     0      0      0 --:--:-- --:--:-- --:--:--     0\n",
            "100 2746M  100 2746M    0     0  86.3M      0  0:00:31  0:00:31 --:--:-- 92.1M\n"
          ]
        }
      ]
    },
    {
      "cell_type": "code",
      "source": [
        "import logging\n",
        "import os\n",
        "from pathlib import Path\n",
        "from io import StringIO\n",
        "import pickle\n",
        "\n",
        "class WordsEmbeddings(object):\n",
        "    logger = logging.getLogger(__name__)\n",
        "\n",
        "    def __init__(self):\n",
        "        # load the embeddings\n",
        "        words_embedding_pkl = Path(self.PKL_PATH)\n",
        "        if not words_embedding_pkl.is_file():\n",
        "            words_embedding_txt = Path(self.WORD_TO_VEC_MODEL_TXT_PATH)\n",
        "            assert words_embedding_txt.is_file(), 'Words embedding not available'\n",
        "            embeddings = self.convert_model_to_pickle()\n",
        "        else:\n",
        "            embeddings = self.load_model_from_pickle()\n",
        "        self.embeddings = embeddings\n",
        "        # build the vocabulary hashmap\n",
        "        index = np.arange(self.embeddings.shape[0])\n",
        "        # Dicctionarios para traducir de embedding a IDX de la palabra\n",
        "        self.word2idx = dict(zip(self.embeddings['word'], index))\n",
        "        self.idx2word = dict(zip(index, self.embeddings['word']))\n",
        "\n",
        "    def get_words_embeddings(self, words):\n",
        "        words_idxs = self.words2idxs(words)\n",
        "        return self.embeddings[words_idxs]['embedding']\n",
        "\n",
        "    def words2idxs(self, words):\n",
        "        return np.array([self.word2idx.get(word, -1) for word in words])\n",
        "\n",
        "    def idxs2words(self, idxs):\n",
        "        return np.array([self.idx2word.get(idx, '-1') for idx in idxs])\n",
        "\n",
        "    def load_model_from_pickle(self):\n",
        "        self.logger.debug(\n",
        "            'loading words embeddings from pickle {}'.format(\n",
        "                self.PKL_PATH\n",
        "            )\n",
        "        )\n",
        "        max_bytes = 2**28 - 1 # 256MB\n",
        "        bytes_in = bytearray(0)\n",
        "        input_size = os.path.getsize(self.PKL_PATH)\n",
        "        with open(self.PKL_PATH, 'rb') as f_in:\n",
        "            for _ in range(0, input_size, max_bytes):\n",
        "                bytes_in += f_in.read(max_bytes)\n",
        "        embeddings = pickle.loads(bytes_in)\n",
        "        self.logger.debug('words embeddings loaded')\n",
        "        return embeddings\n",
        "\n",
        "    def convert_model_to_pickle(self):\n",
        "        # create a numpy strctured array:\n",
        "        # word     embedding\n",
        "        # U50      np.float32[]\n",
        "        # word_1   a, b, c\n",
        "        # word_2   d, e, f\n",
        "        # ...\n",
        "        # word_n   g, h, i\n",
        "        self.logger.debug(\n",
        "            'converting and loading words embeddings from text file {}'.format(\n",
        "                self.WORD_TO_VEC_MODEL_TXT_PATH\n",
        "            )\n",
        "        )\n",
        "        structure = [('word', np.dtype('U' + str(self.WORD_MAX_SIZE))),\n",
        "                     ('embedding', np.float32, (self.N_FEATURES,))]\n",
        "        structure = np.dtype(structure)\n",
        "        # load numpy array from disk using a generator\n",
        "        with open(self.WORD_TO_VEC_MODEL_TXT_PATH, encoding=\"utf8\") as words_embeddings_txt:\n",
        "            embeddings_gen = (\n",
        "                (line.split()[0], line.split()[1:]) for line in words_embeddings_txt\n",
        "                if len(line.split()[1:]) == self.N_FEATURES\n",
        "            )\n",
        "            embeddings = np.fromiter(embeddings_gen, structure)\n",
        "        # add a null embedding\n",
        "        null_embedding = np.array(\n",
        "            [('null_embedding', np.zeros((self.N_FEATURES,), dtype=np.float32))],\n",
        "            dtype=structure\n",
        "        )\n",
        "        embeddings = np.concatenate([embeddings, null_embedding])\n",
        "        # dump numpy array to disk using pickle\n",
        "        max_bytes = 2**28 - 1 # # 256MB\n",
        "        bytes_out = pickle.dumps(embeddings, protocol=pickle.HIGHEST_PROTOCOL)\n",
        "        with open(self.PKL_PATH, 'wb') as f_out:\n",
        "            for idx in range(0, len(bytes_out), max_bytes):\n",
        "                f_out.write(bytes_out[idx:idx+max_bytes])\n",
        "        self.logger.debug('words embeddings loaded')\n",
        "        return embeddings\n",
        "\n",
        "\n",
        "class GloveEmbeddings(WordsEmbeddings):\n",
        "    WORD_TO_VEC_MODEL_TXT_PATH = 'glove.twitter.27B.50d.txt'\n",
        "    PKL_PATH = 'gloveembedding.pkl'\n",
        "    N_FEATURES = 50\n",
        "    WORD_MAX_SIZE = 60\n",
        "\n",
        "class FasttextEmbeddings(WordsEmbeddings):\n",
        "    WORD_TO_VEC_MODEL_TXT_PATH = 'cc.en.300.vec'\n",
        "    PKL_PATH = 'fasttext.pkl'\n",
        "    N_FEATURES = 300\n",
        "    WORD_MAX_SIZE = 60"
      ],
      "metadata": {
        "id": "Vj_zCdbURVwl"
      },
      "execution_count": 52,
      "outputs": []
    },
    {
      "cell_type": "code",
      "source": [
        "# Por una cuestion de RAM se utilizarán los embeddings de Glove de dimension 50\n",
        "model_embeddings = GloveEmbeddings()"
      ],
      "metadata": {
        "id": "kN3jkeROSWs2"
      },
      "execution_count": 53,
      "outputs": []
    },
    {
      "cell_type": "code",
      "source": [
        "# Crear la Embedding matrix de las secuencias\n",
        "# en inglés\n",
        "\n",
        "print('preparing embedding matrix...')\n",
        "embed_dim = model_embeddings.N_FEATURES\n",
        "words_not_found = []\n",
        "\n",
        "# word_index provieen del tokenizer\n",
        "\n",
        "nb_words = min(MAX_VOCAB_SIZE, len(word2idx_inputs)+1) # vocab_size\n",
        "embedding_matrix = np.zeros((nb_words, embed_dim))\n",
        "for word, i in word2idx_inputs.items():\n",
        "    if i >= nb_words:\n",
        "        continue\n",
        "    embedding_vector = model_embeddings.get_words_embeddings(word)[0]\n",
        "    if (embedding_vector is not None) and len(embedding_vector) > 0:\n",
        "\n",
        "        embedding_matrix[i] = embedding_vector\n",
        "    else:\n",
        "        # words not found in embedding index will be all-zeros.\n",
        "        words_not_found.append(word)\n",
        "\n",
        "print('number of null word embeddings:', np.sum(np.sum(embedding_matrix**2, axis=1) == 0))"
      ],
      "metadata": {
        "colab": {
          "base_uri": "https://localhost:8080/"
        },
        "id": "2HcY919mSppt",
        "outputId": "3c333d98-6707-426a-fa95-0ef504b422ba"
      },
      "execution_count": 54,
      "outputs": [
        {
          "output_type": "stream",
          "name": "stdout",
          "text": [
            "preparing embedding matrix...\n",
            "number of null word embeddings: 38\n"
          ]
        }
      ]
    },
    {
      "cell_type": "code",
      "source": [
        "# Dimensión de los embeddings de la secuencia en inglés\n",
        "embedding_matrix.shape"
      ],
      "metadata": {
        "colab": {
          "base_uri": "https://localhost:8080/"
        },
        "id": "dn95tIPISsOF",
        "outputId": "01bd440c-7138-4c15-efe2-c5aca44f7dda"
      },
      "execution_count": 55,
      "outputs": [
        {
          "output_type": "execute_result",
          "data": {
            "text/plain": [
              "(1800, 50)"
            ]
          },
          "metadata": {},
          "execution_count": 55
        }
      ]
    },
    {
      "cell_type": "markdown",
      "metadata": {
        "id": "3vKbhjtIwPgM"
      },
      "source": [
        "### 4 - Entrenar el modelo\n",
        "Entrenar un modelo basado en el esquema encoder-decoder utilizando los datos generados en los puntos anteriores. Utilce como referencias los ejemplos vistos en clase."
      ]
    },
    {
      "cell_type": "code",
      "source": [
        "from keras.models import Model\n",
        "from keras.layers import Input, LSTM, Dense\n",
        "\n",
        "n_units = 128\n",
        "\n",
        "# define training encoder\n",
        "encoder_inputs = Input(shape=(max_input_len))\n",
        "\n",
        "#encoder_embedding_layer = Embedding(num_words, EMBEDDING_SIZE, weights=[embedding_matrix], input_length=max_input_len)\n",
        "\n",
        "encoder_embedding_layer = Embedding(\n",
        "          input_dim=nb_words,  # definido en el Tokenizador\n",
        "          output_dim=embed_dim,  # dimensión de los embeddings utilizados\n",
        "          input_length=max_input_len, # tamaño máximo de la secuencia de entrada\n",
        "          weights=[embedding_matrix],  # matrix de embeddings\n",
        "          trainable=False)      # marcar como layer no entrenable\n",
        "\n",
        "encoder_inputs_x = encoder_embedding_layer(encoder_inputs)\n",
        "\n",
        "encoder = LSTM(n_units, return_state=True) #Se agrego dropout\n",
        "encoder_outputs, state_h, state_c = encoder(encoder_inputs_x)\n",
        "encoder_states = [state_h, state_c]\n",
        "\n",
        "# define training decoder\n",
        "decoder_inputs = Input(shape=(max_out_len))\n",
        "decoder_embedding_layer = Embedding(input_dim=num_words_output, output_dim=n_units, input_length=max_out_len)\n",
        "decoder_inputs_x = decoder_embedding_layer(decoder_inputs)\n",
        "\n",
        "decoder_lstm = LSTM(n_units, return_sequences=True, return_state=True) #se agrego dropout\n",
        "decoder_outputs, _, _ = decoder_lstm(decoder_inputs_x, initial_state=encoder_states)\n",
        "\n",
        "# Dense\n",
        "decoder_dense = Dense(num_words_output, activation='softmax')\n",
        "decoder_outputs = decoder_dense(decoder_outputs)\n",
        "model = Model([encoder_inputs, decoder_inputs], decoder_outputs)\n",
        "\n",
        "model.compile(loss='categorical_crossentropy', optimizer=\"Adam\", metrics=['accuracy'])\n",
        "model.summary()"
      ],
      "metadata": {
        "colab": {
          "base_uri": "https://localhost:8080/"
        },
        "id": "kLI1hCIISzMl",
        "outputId": "1ecb6267-f08a-4b90-80cf-1e794d1903ff"
      },
      "execution_count": 62,
      "outputs": [
        {
          "output_type": "stream",
          "name": "stdout",
          "text": [
            "Model: \"model_6\"\n",
            "__________________________________________________________________________________________________\n",
            " Layer (type)                   Output Shape         Param #     Connected to                     \n",
            "==================================================================================================\n",
            " input_11 (InputLayer)          [(None, 9)]          0           []                               \n",
            "                                                                                                  \n",
            " input_12 (InputLayer)          [(None, 10)]         0           []                               \n",
            "                                                                                                  \n",
            " embedding_4 (Embedding)        (None, 9, 50)        90000       ['input_11[0][0]']               \n",
            "                                                                                                  \n",
            " embedding_5 (Embedding)        (None, 10, 128)      231296      ['input_12[0][0]']               \n",
            "                                                                                                  \n",
            " lstm_4 (LSTM)                  [(None, 128),        91648       ['embedding_4[0][0]']            \n",
            "                                 (None, 128),                                                     \n",
            "                                 (None, 128)]                                                     \n",
            "                                                                                                  \n",
            " lstm_5 (LSTM)                  [(None, 10, 128),    131584      ['embedding_5[0][0]',            \n",
            "                                 (None, 128),                     'lstm_4[0][1]',                 \n",
            "                                 (None, 128)]                     'lstm_4[0][2]']                 \n",
            "                                                                                                  \n",
            " dense_2 (Dense)                (None, 10, 1807)     233103      ['lstm_5[0][0]']                 \n",
            "                                                                                                  \n",
            "==================================================================================================\n",
            "Total params: 777,631\n",
            "Trainable params: 687,631\n",
            "Non-trainable params: 90,000\n",
            "__________________________________________________________________________________________________\n"
          ]
        }
      ]
    },
    {
      "cell_type": "code",
      "source": [
        "# Modelo completo (encoder+decoder) para poder entrenar\n",
        "from keras.utils.vis_utils import plot_model\n",
        "plot_model(model, to_file='model_plot.png', show_shapes=True, show_layer_names=True)"
      ],
      "metadata": {
        "colab": {
          "base_uri": "https://localhost:8080/",
          "height": 533
        },
        "id": "T4Om0TdzTEKm",
        "outputId": "bde4e59e-4958-4ee4-8cdf-7ff1c8717702"
      },
      "execution_count": 63,
      "outputs": [
        {
          "output_type": "execute_result",
          "data": {
            "image/png": "[encoded data removed]",
            "text/plain": [
              "<IPython.core.display.Image object>"
            ]
          },
          "metadata": {},
          "execution_count": 63
        }
      ]
    },
    {
      "cell_type": "code",
      "source": [
        "# Modelo solo encoder\n",
        "\n",
        "# define inference encoder\n",
        "encoder_model = Model(encoder_inputs, encoder_states)\n",
        "\n",
        "from keras.utils.vis_utils import plot_model\n",
        "plot_model(encoder_model, to_file='encoder_plot.png', show_shapes=True, show_layer_names=True)"
      ],
      "metadata": {
        "colab": {
          "base_uri": "https://localhost:8080/",
          "height": 312
        },
        "id": "NNu7uUgdTRmE",
        "outputId": "411e3bf2-3f04-4170-e6a7-2a632264d32c"
      },
      "execution_count": 58,
      "outputs": [
        {
          "output_type": "execute_result",
          "data": {
            "image/png": "[encoded data removed]",
            "text/plain": [
              "<IPython.core.display.Image object>"
            ]
          },
          "metadata": {},
          "execution_count": 58
        }
      ]
    },
    {
      "cell_type": "code",
      "source": [
        "# Modelo solo decoder (para realizar inferencia)\n",
        "from keras.utils.vis_utils import plot_model\n",
        "\n",
        "# define inference decoder\n",
        "decoder_state_input_h = Input(shape=(n_units,))\n",
        "decoder_state_input_c = Input(shape=(n_units,))\n",
        "decoder_states_inputs = [decoder_state_input_h, decoder_state_input_c]\n",
        "\n",
        "# En cada predicción habrá una sola palabra de entrada al decoder,\n",
        "# que es la realimentación de la palabra anterior\n",
        "# por lo que hay que modificar el input shape de la layer de Embedding\n",
        "decoder_inputs_single = Input(shape=(1,))\n",
        "decoder_inputs_single_x = decoder_embedding_layer(decoder_inputs_single)\n",
        "\n",
        "decoder_outputs, state_h, state_c = decoder_lstm(decoder_inputs_single_x, initial_state=decoder_states_inputs)\n",
        "decoder_states = [state_h, state_c]\n",
        "decoder_outputs = decoder_dense(decoder_outputs)\n",
        "decoder_model = Model([decoder_inputs_single] + decoder_states_inputs, [decoder_outputs] + decoder_states)\n",
        "\n",
        "plot_model(decoder_model, to_file='decoder_plot.png', show_shapes=True, show_layer_names=True)"
      ],
      "metadata": {
        "colab": {
          "base_uri": "https://localhost:8080/",
          "height": 422
        },
        "id": "AtHdl4wJTiSV",
        "outputId": "f0b2c380-e638-40b1-d301-312a077004ba"
      },
      "execution_count": 59,
      "outputs": [
        {
          "output_type": "execute_result",
          "data": {
            "image/png": "[encoded data removed]",
            "text/plain": [
              "<IPython.core.display.Image object>"
            ]
          },
          "metadata": {},
          "execution_count": 59
        }
      ]
    },
    {
      "cell_type": "code",
      "source": [
        "hist = model.fit(\n",
        "    [encoder_input_sequences, decoder_input_sequences],\n",
        "    decoder_targets,\n",
        "    epochs=100,\n",
        "    validation_split=0.2)"
      ],
      "metadata": {
        "colab": {
          "base_uri": "https://localhost:8080/"
        },
        "id": "Lsl2rooXTrbV",
        "outputId": "3102dc5b-5579-49d9-dee2-9ec9250d1726"
      },
      "execution_count": 60,
      "outputs": [
        {
          "output_type": "stream",
          "name": "stdout",
          "text": [
            "Epoch 1/100\n",
            "151/151 [==============================] - 11s 48ms/step - loss: 3.0910 - accuracy: 0.5238 - val_loss: 2.2534 - val_accuracy: 0.6324\n",
            "Epoch 2/100\n",
            "151/151 [==============================] - 6s 42ms/step - loss: 2.0526 - accuracy: 0.6289 - val_loss: 2.0804 - val_accuracy: 0.6570\n",
            "Epoch 3/100\n",
            "151/151 [==============================] - 6s 39ms/step - loss: 1.8219 - accuracy: 0.6790 - val_loss: 1.9304 - val_accuracy: 0.6876\n",
            "Epoch 4/100\n",
            "151/151 [==============================] - 6s 43ms/step - loss: 1.6526 - accuracy: 0.7088 - val_loss: 1.8494 - val_accuracy: 0.6935\n",
            "Epoch 5/100\n",
            "151/151 [==============================] - 6s 39ms/step - loss: 1.5464 - accuracy: 0.7209 - val_loss: 1.7917 - val_accuracy: 0.7043\n",
            "Epoch 6/100\n",
            "151/151 [==============================] - 7s 43ms/step - loss: 1.4685 - accuracy: 0.7307 - val_loss: 1.7493 - val_accuracy: 0.7114\n",
            "Epoch 7/100\n",
            "151/151 [==============================] - 6s 42ms/step - loss: 1.4101 - accuracy: 0.7379 - val_loss: 1.7227 - val_accuracy: 0.7132\n",
            "Epoch 8/100\n",
            "151/151 [==============================] - 6s 43ms/step - loss: 1.3641 - accuracy: 0.7417 - val_loss: 1.7051 - val_accuracy: 0.7172\n",
            "Epoch 9/100\n",
            "151/151 [==============================] - 6s 39ms/step - loss: 1.3241 - accuracy: 0.7452 - val_loss: 1.6867 - val_accuracy: 0.7202\n",
            "Epoch 10/100\n",
            "151/151 [==============================] - 7s 47ms/step - loss: 1.2909 - accuracy: 0.7486 - val_loss: 1.6792 - val_accuracy: 0.7222\n",
            "Epoch 11/100\n",
            "151/151 [==============================] - 6s 39ms/step - loss: 1.2601 - accuracy: 0.7528 - val_loss: 1.6708 - val_accuracy: 0.7234\n",
            "Epoch 12/100\n",
            "151/151 [==============================] - 6s 42ms/step - loss: 1.2335 - accuracy: 0.7571 - val_loss: 1.6597 - val_accuracy: 0.7272\n",
            "Epoch 13/100\n",
            "151/151 [==============================] - 6s 38ms/step - loss: 1.2077 - accuracy: 0.7602 - val_loss: 1.6557 - val_accuracy: 0.7292\n",
            "Epoch 14/100\n",
            "151/151 [==============================] - 6s 43ms/step - loss: 1.1848 - accuracy: 0.7626 - val_loss: 1.6520 - val_accuracy: 0.7298\n",
            "Epoch 15/100\n",
            "151/151 [==============================] - 6s 39ms/step - loss: 1.1626 - accuracy: 0.7647 - val_loss: 1.6476 - val_accuracy: 0.7290\n",
            "Epoch 16/100\n",
            "151/151 [==============================] - 6s 42ms/step - loss: 1.1415 - accuracy: 0.7660 - val_loss: 1.6502 - val_accuracy: 0.7299\n",
            "Epoch 17/100\n",
            "151/151 [==============================] - 6s 39ms/step - loss: 1.1238 - accuracy: 0.7684 - val_loss: 1.6488 - val_accuracy: 0.7315\n",
            "Epoch 18/100\n",
            "151/151 [==============================] - 6s 43ms/step - loss: 1.1052 - accuracy: 0.7702 - val_loss: 1.6468 - val_accuracy: 0.7316\n",
            "Epoch 19/100\n",
            "151/151 [==============================] - 6s 38ms/step - loss: 1.0870 - accuracy: 0.7721 - val_loss: 1.6477 - val_accuracy: 0.7318\n",
            "Epoch 20/100\n",
            "151/151 [==============================] - 6s 43ms/step - loss: 1.0699 - accuracy: 0.7723 - val_loss: 1.6464 - val_accuracy: 0.7326\n",
            "Epoch 21/100\n",
            "151/151 [==============================] - 6s 43ms/step - loss: 1.0546 - accuracy: 0.7758 - val_loss: 1.6521 - val_accuracy: 0.7339\n",
            "Epoch 22/100\n",
            "151/151 [==============================] - 7s 44ms/step - loss: 1.0403 - accuracy: 0.7765 - val_loss: 1.6542 - val_accuracy: 0.7360\n",
            "Epoch 23/100\n",
            "151/151 [==============================] - 6s 40ms/step - loss: 1.0258 - accuracy: 0.7776 - val_loss: 1.6544 - val_accuracy: 0.7346\n",
            "Epoch 24/100\n",
            "151/151 [==============================] - 6s 41ms/step - loss: 1.0110 - accuracy: 0.7796 - val_loss: 1.6555 - val_accuracy: 0.7346\n",
            "Epoch 25/100\n",
            "151/151 [==============================] - 7s 45ms/step - loss: 0.9982 - accuracy: 0.7812 - val_loss: 1.6632 - val_accuracy: 0.7358\n",
            "Epoch 26/100\n",
            "151/151 [==============================] - 6s 39ms/step - loss: 0.9848 - accuracy: 0.7831 - val_loss: 1.6655 - val_accuracy: 0.7339\n",
            "Epoch 27/100\n",
            "151/151 [==============================] - 6s 43ms/step - loss: 0.9722 - accuracy: 0.7852 - val_loss: 1.6658 - val_accuracy: 0.7365\n",
            "Epoch 28/100\n",
            "151/151 [==============================] - 6s 38ms/step - loss: 0.9606 - accuracy: 0.7864 - val_loss: 1.6712 - val_accuracy: 0.7360\n",
            "Epoch 29/100\n",
            "151/151 [==============================] - 7s 45ms/step - loss: 0.9481 - accuracy: 0.7881 - val_loss: 1.6794 - val_accuracy: 0.7355\n",
            "Epoch 30/100\n",
            "151/151 [==============================] - 6s 39ms/step - loss: 0.9365 - accuracy: 0.7895 - val_loss: 1.6829 - val_accuracy: 0.7345\n",
            "Epoch 31/100\n",
            "151/151 [==============================] - 7s 43ms/step - loss: 0.9274 - accuracy: 0.7915 - val_loss: 1.6842 - val_accuracy: 0.7331\n",
            "Epoch 32/100\n",
            "151/151 [==============================] - 6s 38ms/step - loss: 0.9167 - accuracy: 0.7919 - val_loss: 1.6830 - val_accuracy: 0.7359\n",
            "Epoch 33/100\n",
            "151/151 [==============================] - 6s 43ms/step - loss: 0.9058 - accuracy: 0.7952 - val_loss: 1.6942 - val_accuracy: 0.7355\n",
            "Epoch 34/100\n",
            "151/151 [==============================] - 6s 39ms/step - loss: 0.8956 - accuracy: 0.7960 - val_loss: 1.6980 - val_accuracy: 0.7374\n",
            "Epoch 35/100\n",
            "151/151 [==============================] - 7s 43ms/step - loss: 0.8847 - accuracy: 0.7977 - val_loss: 1.6976 - val_accuracy: 0.7360\n",
            "Epoch 36/100\n",
            "151/151 [==============================] - 6s 39ms/step - loss: 0.8754 - accuracy: 0.7993 - val_loss: 1.7067 - val_accuracy: 0.7348\n",
            "Epoch 37/100\n",
            "151/151 [==============================] - 6s 43ms/step - loss: 0.8662 - accuracy: 0.8004 - val_loss: 1.7122 - val_accuracy: 0.7368\n",
            "Epoch 38/100\n",
            "151/151 [==============================] - 6s 39ms/step - loss: 0.8581 - accuracy: 0.8020 - val_loss: 1.7192 - val_accuracy: 0.7382\n",
            "Epoch 39/100\n",
            "151/151 [==============================] - 7s 48ms/step - loss: 0.8494 - accuracy: 0.8030 - val_loss: 1.7221 - val_accuracy: 0.7358\n",
            "Epoch 40/100\n",
            "151/151 [==============================] - 6s 39ms/step - loss: 0.8401 - accuracy: 0.8041 - val_loss: 1.7323 - val_accuracy: 0.7375\n",
            "Epoch 41/100\n",
            "151/151 [==============================] - 6s 43ms/step - loss: 0.8340 - accuracy: 0.8057 - val_loss: 1.7314 - val_accuracy: 0.7345\n",
            "Epoch 42/100\n",
            "151/151 [==============================] - 6s 38ms/step - loss: 0.8252 - accuracy: 0.8068 - val_loss: 1.7398 - val_accuracy: 0.7357\n",
            "Epoch 43/100\n",
            "151/151 [==============================] - 6s 43ms/step - loss: 0.8168 - accuracy: 0.8081 - val_loss: 1.7449 - val_accuracy: 0.7378\n",
            "Epoch 44/100\n",
            "151/151 [==============================] - 6s 41ms/step - loss: 0.8100 - accuracy: 0.8089 - val_loss: 1.7494 - val_accuracy: 0.7378\n",
            "Epoch 45/100\n",
            "151/151 [==============================] - 6s 42ms/step - loss: 0.8025 - accuracy: 0.8105 - val_loss: 1.7531 - val_accuracy: 0.7348\n",
            "Epoch 46/100\n",
            "151/151 [==============================] - 6s 41ms/step - loss: 0.7953 - accuracy: 0.8111 - val_loss: 1.7615 - val_accuracy: 0.7379\n",
            "Epoch 47/100\n",
            "151/151 [==============================] - 6s 40ms/step - loss: 0.7893 - accuracy: 0.8129 - val_loss: 1.7695 - val_accuracy: 0.7350\n",
            "Epoch 48/100\n",
            "151/151 [==============================] - 6s 42ms/step - loss: 0.7828 - accuracy: 0.8137 - val_loss: 1.7721 - val_accuracy: 0.7350\n",
            "Epoch 49/100\n",
            "151/151 [==============================] - 6s 39ms/step - loss: 0.7754 - accuracy: 0.8152 - val_loss: 1.7752 - val_accuracy: 0.7368\n",
            "Epoch 50/100\n",
            "151/151 [==============================] - 7s 44ms/step - loss: 0.7688 - accuracy: 0.8161 - val_loss: 1.7830 - val_accuracy: 0.7377\n",
            "Epoch 51/100\n",
            "151/151 [==============================] - 6s 39ms/step - loss: 0.7641 - accuracy: 0.8170 - val_loss: 1.7904 - val_accuracy: 0.7377\n",
            "Epoch 52/100\n",
            "151/151 [==============================] - 6s 43ms/step - loss: 0.7560 - accuracy: 0.8181 - val_loss: 1.7951 - val_accuracy: 0.7355\n",
            "Epoch 53/100\n",
            "151/151 [==============================] - 7s 43ms/step - loss: 0.7502 - accuracy: 0.8188 - val_loss: 1.8022 - val_accuracy: 0.7358\n",
            "Epoch 54/100\n",
            "151/151 [==============================] - 8s 51ms/step - loss: 0.7436 - accuracy: 0.8194 - val_loss: 1.8073 - val_accuracy: 0.7379\n",
            "Epoch 55/100\n",
            "151/151 [==============================] - 6s 39ms/step - loss: 0.7378 - accuracy: 0.8221 - val_loss: 1.8141 - val_accuracy: 0.7325\n",
            "Epoch 56/100\n",
            "151/151 [==============================] - 7s 43ms/step - loss: 0.7324 - accuracy: 0.8216 - val_loss: 1.8184 - val_accuracy: 0.7353\n",
            "Epoch 57/100\n",
            "151/151 [==============================] - 6s 39ms/step - loss: 0.7264 - accuracy: 0.8233 - val_loss: 1.8260 - val_accuracy: 0.7344\n",
            "Epoch 58/100\n",
            "151/151 [==============================] - 7s 43ms/step - loss: 0.7193 - accuracy: 0.8243 - val_loss: 1.8324 - val_accuracy: 0.7341\n",
            "Epoch 59/100\n",
            "151/151 [==============================] - 6s 40ms/step - loss: 0.7151 - accuracy: 0.8246 - val_loss: 1.8398 - val_accuracy: 0.7365\n",
            "Epoch 60/100\n",
            "151/151 [==============================] - 7s 43ms/step - loss: 0.7094 - accuracy: 0.8261 - val_loss: 1.8481 - val_accuracy: 0.7341\n",
            "Epoch 61/100\n",
            "151/151 [==============================] - 7s 44ms/step - loss: 0.7030 - accuracy: 0.8273 - val_loss: 1.8573 - val_accuracy: 0.7350\n",
            "Epoch 62/100\n",
            "151/151 [==============================] - 6s 41ms/step - loss: 0.6968 - accuracy: 0.8282 - val_loss: 1.8541 - val_accuracy: 0.7378\n",
            "Epoch 63/100\n",
            "151/151 [==============================] - 7s 43ms/step - loss: 0.6908 - accuracy: 0.8291 - val_loss: 1.8663 - val_accuracy: 0.7350\n",
            "Epoch 64/100\n",
            "151/151 [==============================] - 6s 39ms/step - loss: 0.6875 - accuracy: 0.8296 - val_loss: 1.8720 - val_accuracy: 0.7350\n",
            "Epoch 65/100\n",
            "151/151 [==============================] - 7s 44ms/step - loss: 0.6816 - accuracy: 0.8305 - val_loss: 1.8801 - val_accuracy: 0.7335\n",
            "Epoch 66/100\n",
            "151/151 [==============================] - 6s 39ms/step - loss: 0.6759 - accuracy: 0.8318 - val_loss: 1.8841 - val_accuracy: 0.7330\n",
            "Epoch 67/100\n",
            "151/151 [==============================] - 7s 46ms/step - loss: 0.6717 - accuracy: 0.8313 - val_loss: 1.8934 - val_accuracy: 0.7330\n",
            "Epoch 68/100\n",
            "151/151 [==============================] - 6s 40ms/step - loss: 0.6646 - accuracy: 0.8336 - val_loss: 1.9069 - val_accuracy: 0.7346\n",
            "Epoch 69/100\n",
            "151/151 [==============================] - 6s 43ms/step - loss: 0.6592 - accuracy: 0.8349 - val_loss: 1.9044 - val_accuracy: 0.7365\n",
            "Epoch 70/100\n",
            "151/151 [==============================] - 6s 39ms/step - loss: 0.6545 - accuracy: 0.8362 - val_loss: 1.9144 - val_accuracy: 0.7350\n",
            "Epoch 71/100\n",
            "151/151 [==============================] - 6s 43ms/step - loss: 0.6486 - accuracy: 0.8372 - val_loss: 1.9217 - val_accuracy: 0.7326\n",
            "Epoch 72/100\n",
            "151/151 [==============================] - 6s 39ms/step - loss: 0.6429 - accuracy: 0.8383 - val_loss: 1.9300 - val_accuracy: 0.7333\n",
            "Epoch 73/100\n",
            "151/151 [==============================] - 7s 43ms/step - loss: 0.6377 - accuracy: 0.8384 - val_loss: 1.9403 - val_accuracy: 0.7328\n",
            "Epoch 74/100\n",
            "151/151 [==============================] - 6s 39ms/step - loss: 0.6325 - accuracy: 0.8389 - val_loss: 1.9482 - val_accuracy: 0.7326\n",
            "Epoch 75/100\n",
            "151/151 [==============================] - 7s 43ms/step - loss: 0.6282 - accuracy: 0.8401 - val_loss: 1.9519 - val_accuracy: 0.7318\n",
            "Epoch 76/100\n",
            "151/151 [==============================] - 6s 39ms/step - loss: 0.6227 - accuracy: 0.8419 - val_loss: 1.9601 - val_accuracy: 0.7331\n",
            "Epoch 77/100\n",
            "151/151 [==============================] - 7s 44ms/step - loss: 0.6171 - accuracy: 0.8425 - val_loss: 1.9585 - val_accuracy: 0.7309\n",
            "Epoch 78/100\n",
            "151/151 [==============================] - 7s 45ms/step - loss: 0.6133 - accuracy: 0.8433 - val_loss: 1.9709 - val_accuracy: 0.7321\n",
            "Epoch 79/100\n",
            "151/151 [==============================] - 6s 40ms/step - loss: 0.6085 - accuracy: 0.8441 - val_loss: 1.9800 - val_accuracy: 0.7340\n",
            "Epoch 80/100\n",
            "151/151 [==============================] - 7s 43ms/step - loss: 0.6048 - accuracy: 0.8454 - val_loss: 1.9841 - val_accuracy: 0.7323\n",
            "Epoch 81/100\n",
            "151/151 [==============================] - 6s 39ms/step - loss: 0.5989 - accuracy: 0.8457 - val_loss: 1.9981 - val_accuracy: 0.7333\n",
            "Epoch 82/100\n",
            "151/151 [==============================] - 7s 44ms/step - loss: 0.5946 - accuracy: 0.8459 - val_loss: 1.9983 - val_accuracy: 0.7302\n",
            "Epoch 83/100\n",
            "151/151 [==============================] - 6s 40ms/step - loss: 0.5890 - accuracy: 0.8487 - val_loss: 2.0060 - val_accuracy: 0.7319\n",
            "Epoch 84/100\n",
            "151/151 [==============================] - 7s 43ms/step - loss: 0.5853 - accuracy: 0.8486 - val_loss: 2.0135 - val_accuracy: 0.7302\n",
            "Epoch 85/100\n",
            "151/151 [==============================] - 6s 40ms/step - loss: 0.5814 - accuracy: 0.8489 - val_loss: 2.0222 - val_accuracy: 0.7311\n",
            "Epoch 86/100\n",
            "151/151 [==============================] - 7s 43ms/step - loss: 0.5771 - accuracy: 0.8504 - val_loss: 2.0275 - val_accuracy: 0.7318\n",
            "Epoch 87/100\n",
            "151/151 [==============================] - 6s 39ms/step - loss: 0.5714 - accuracy: 0.8523 - val_loss: 2.0365 - val_accuracy: 0.7304\n",
            "Epoch 88/100\n",
            "151/151 [==============================] - 7s 44ms/step - loss: 0.5680 - accuracy: 0.8525 - val_loss: 2.0459 - val_accuracy: 0.7311\n",
            "Epoch 89/100\n",
            "151/151 [==============================] - 6s 39ms/step - loss: 0.5633 - accuracy: 0.8541 - val_loss: 2.0525 - val_accuracy: 0.7293\n",
            "Epoch 90/100\n",
            "151/151 [==============================] - 7s 43ms/step - loss: 0.5582 - accuracy: 0.8540 - val_loss: 2.0547 - val_accuracy: 0.7307\n",
            "Epoch 91/100\n",
            "151/151 [==============================] - 6s 40ms/step - loss: 0.5535 - accuracy: 0.8559 - val_loss: 2.0636 - val_accuracy: 0.7296\n",
            "Epoch 92/100\n",
            "151/151 [==============================] - 6s 43ms/step - loss: 0.5511 - accuracy: 0.8557 - val_loss: 2.0684 - val_accuracy: 0.7297\n",
            "Epoch 93/100\n",
            "151/151 [==============================] - 6s 40ms/step - loss: 0.5472 - accuracy: 0.8570 - val_loss: 2.0842 - val_accuracy: 0.7289\n",
            "Epoch 94/100\n",
            "151/151 [==============================] - 7s 44ms/step - loss: 0.5410 - accuracy: 0.8589 - val_loss: 2.0794 - val_accuracy: 0.7278\n",
            "Epoch 95/100\n",
            "151/151 [==============================] - 7s 47ms/step - loss: 0.5383 - accuracy: 0.8581 - val_loss: 2.0906 - val_accuracy: 0.7297\n",
            "Epoch 96/100\n",
            "151/151 [==============================] - 7s 44ms/step - loss: 0.5331 - accuracy: 0.8600 - val_loss: 2.1010 - val_accuracy: 0.7302\n",
            "Epoch 97/100\n",
            "151/151 [==============================] - 7s 44ms/step - loss: 0.5293 - accuracy: 0.8609 - val_loss: 2.1081 - val_accuracy: 0.7283\n",
            "Epoch 98/100\n",
            "151/151 [==============================] - 6s 40ms/step - loss: 0.5261 - accuracy: 0.8613 - val_loss: 2.1143 - val_accuracy: 0.7266\n",
            "Epoch 99/100\n",
            "151/151 [==============================] - 7s 44ms/step - loss: 0.5210 - accuracy: 0.8631 - val_loss: 2.1181 - val_accuracy: 0.7287\n",
            "Epoch 100/100\n",
            "151/151 [==============================] - 6s 39ms/step - loss: 0.5183 - accuracy: 0.8627 - val_loss: 2.1283 - val_accuracy: 0.7268\n"
          ]
        }
      ]
    },
    {
      "cell_type": "code",
      "source": [
        "import matplotlib.pyplot as plt\n",
        "import seaborn as sns\n",
        "\n",
        "# Entrenamiento\n",
        "epoch_count = range(1, len(hist.history['accuracy']) + 1)\n",
        "sns.lineplot(x=epoch_count,  y=hist.history['accuracy'], label='train')\n",
        "sns.lineplot(x=epoch_count,  y=hist.history['val_accuracy'], label='valid')\n",
        "plt.show()"
      ],
      "metadata": {
        "colab": {
          "base_uri": "https://localhost:8080/",
          "height": 430
        },
        "id": "5J0LvQuYd35-",
        "outputId": "6858c174-a0e7-4ee2-b0f0-08db514f1d08"
      },
      "execution_count": 61,
      "outputs": [
        {
          "output_type": "display_data",
          "data": {
            "text/plain": [
              "<Figure size 640x480 with 1 Axes>"
            ],
            "image/png": "[encoded data removed]"
          },
          "metadata": {}
        }
      ]
    },
    {
      "cell_type": "code",
      "source": [
        "from keras.models import load_model\n",
        "\n",
        "#model.save('modelo-v2-100-epocas-dropout.h5')\n",
        "model = load_model('/content/modelo-v1-150-epocas.h5')\n",
        "model.compile(loss='categorical_crossentropy', optimizer=\"Adam\", metrics=['accuracy'])\n"
      ],
      "metadata": {
        "id": "pJQJ4JXckebM"
      },
      "execution_count": 42,
      "outputs": []
    },
    {
      "cell_type": "markdown",
      "metadata": {
        "id": "Zbwn0ekDy_s2"
      },
      "source": [
        "### 5 - Inferencia\n",
        "Experimentar el funcionamiento de su modelo. Recuerde que debe realizar la inferencia de los modelos por separado de encoder y decoder."
      ]
    },
    {
      "cell_type": "code",
      "source": [
        "# Armar los conversores de índice a palabra:\n",
        "idx2word_input = {v:k for k, v in word2idx_inputs.items()}\n",
        "idx2word_target = {v:k for k, v in word2idx_outputs.items()}"
      ],
      "metadata": {
        "id": "lsA0bqPYeAzk"
      },
      "execution_count": 64,
      "outputs": []
    },
    {
      "cell_type": "code",
      "source": [
        "def translate_sentence(input_seq):\n",
        "    # Se transforma la sequencia de entrada a los estados \"h\" y \"c\" de la LSTM\n",
        "    # para enviar la primera vez al decoder\n",
        "    states_value = encoder_model.predict(input_seq)\n",
        "\n",
        "    # Se inicializa la secuencia de entrada al decoder como \"<sos>\"\n",
        "    target_seq = np.zeros((1, 1))\n",
        "    target_seq[0, 0] = word2idx_outputs['<sos>']\n",
        "\n",
        "    # Se obtiene el índice que finaliza la inferencia\n",
        "    eos = word2idx_outputs['<eos>']\n",
        "\n",
        "    output_sentence = []\n",
        "    for _ in range(max_out_len):\n",
        "        # Predicción del próximo elemento\n",
        "        output_tokens, h, c = decoder_model.predict([target_seq] + states_value)\n",
        "        idx = np.argmax(output_tokens[0, 0, :])\n",
        "\n",
        "        # Si es \"end of sentece <eos>\" se acaba\n",
        "        if eos == idx:\n",
        "            break\n",
        "\n",
        "        # Transformar idx a palabra\n",
        "        word = ''\n",
        "        if idx > 0:\n",
        "            word = idx2word_target[idx]\n",
        "            output_sentence.append(word)\n",
        "\n",
        "        # Actualizar los estados dada la última predicción\n",
        "        states_value = [h, c]\n",
        "\n",
        "        # Actualizar secuencia de entrada con la salida (re-alimentación)\n",
        "        target_seq[0, 0] = idx\n",
        "\n",
        "    return ' '.join(output_sentence)"
      ],
      "metadata": {
        "id": "BLhiEhS3eECM"
      },
      "execution_count": 65,
      "outputs": []
    },
    {
      "cell_type": "code",
      "source": [
        "i = np.random.choice(len(input_sentences))\n",
        "input_seq = encoder_input_sequences[i:i+1]\n",
        "translation = translate_sentence(input_seq)\n",
        "print('-')\n",
        "print('Input:', input_sentences[i])\n",
        "print('Response:', translation)"
      ],
      "metadata": {
        "colab": {
          "base_uri": "https://localhost:8080/"
        },
        "id": "9w6OTCPieJs0",
        "outputId": "073e11e2-8f55-477b-b2b1-d354e6fe6d84"
      },
      "execution_count": 124,
      "outputs": [
        {
          "output_type": "stream",
          "name": "stdout",
          "text": [
            "1/1 [==============================] - 0s 18ms/step\n",
            "1/1 [==============================] - 0s 17ms/step\n",
            "1/1 [==============================] - 0s 21ms/step\n",
            "1/1 [==============================] - 0s 23ms/step\n",
            "1/1 [==============================] - 0s 17ms/step\n",
            "1/1 [==============================] - 0s 18ms/step\n",
            "1/1 [==============================] - 0s 18ms/step\n",
            "1/1 [==============================] - 0s 20ms/step\n",
            "1/1 [==============================] - 0s 20ms/step\n",
            "-\n",
            "Input: ooo\n",
            "Response: what do you do for a living\n"
          ]
        }
      ]
    },
    {
      "cell_type": "code",
      "source": [
        "input_test = \"where are you from\"\n",
        "print('Input:', input_test)\n",
        "integer_seq_test = input_tokenizer.texts_to_sequences([input_test])[0]\n",
        "print(\"Representacion en vector de tokens de ids\", integer_seq_test)\n",
        "encoder_sequence_test = pad_sequences([integer_seq_test], maxlen=max_input_len)\n",
        "print(\"Padding del vector:\", encoder_sequence_test)\n",
        "\n",
        "print('Input:', input_test)\n",
        "translation = translate_sentence(encoder_sequence_test)\n",
        "print('Response:', translation)"
      ],
      "metadata": {
        "colab": {
          "base_uri": "https://localhost:8080/"
        },
        "id": "KXJqvyirkqwt",
        "outputId": "157dab9f-7a3e-4c56-d817-ac1ffae7acd5"
      },
      "execution_count": 110,
      "outputs": [
        {
          "output_type": "stream",
          "name": "stdout",
          "text": [
            "Input: where are you from\n",
            "Representacion en vector de tokens de ids [52, 7, 2, 39]\n",
            "Padding del vector: [[ 0  0  0  0  0 52  7  2 39]]\n",
            "Input: where are you from\n",
            "1/1 [==============================] - 0s 27ms/step\n",
            "1/1 [==============================] - 0s 39ms/step\n",
            "1/1 [==============================] - 0s 26ms/step\n",
            "1/1 [==============================] - 0s 32ms/step\n",
            "1/1 [==============================] - 0s 89ms/step\n",
            "1/1 [==============================] - 0s 42ms/step\n",
            "1/1 [==============================] - 0s 94ms/step\n",
            "1/1 [==============================] - 0s 105ms/step\n",
            "Response: i am from the united states\n"
          ]
        }
      ]
    },
    {
      "cell_type": "code",
      "source": [
        "input_test = \"hi bro\"\n",
        "print('Input:', input_test)\n",
        "integer_seq_test = input_tokenizer.texts_to_sequences([input_test])[0]\n",
        "print(\"Representacion en vector de tokens de ids\", integer_seq_test)\n",
        "encoder_sequence_test = pad_sequences([integer_seq_test], maxlen=max_input_len)\n",
        "print(\"Padding del vector:\", encoder_sequence_test)\n",
        "\n",
        "print('Input:', input_test)\n",
        "translation = translate_sentence(encoder_sequence_test)\n",
        "print('Response:', translation)"
      ],
      "metadata": {
        "colab": {
          "base_uri": "https://localhost:8080/"
        },
        "id": "BzOhoJjqSt_i",
        "outputId": "ea11100a-c260-4f2f-eb8b-cf28c79f0f78"
      },
      "execution_count": 111,
      "outputs": [
        {
          "output_type": "stream",
          "name": "stdout",
          "text": [
            "Input: hi bro\n",
            "Representacion en vector de tokens de ids [11, 193]\n",
            "Padding del vector: [[  0   0   0   0   0   0   0  11 193]]\n",
            "Input: hi bro\n",
            "1/1 [==============================] - 0s 17ms/step\n",
            "1/1 [==============================] - 0s 22ms/step\n",
            "1/1 [==============================] - 0s 16ms/step\n",
            "1/1 [==============================] - 0s 20ms/step\n",
            "1/1 [==============================] - 0s 18ms/step\n",
            "1/1 [==============================] - 0s 16ms/step\n",
            "1/1 [==============================] - 0s 18ms/step\n",
            "Response: hello how are you today\n"
          ]
        }
      ]
    },
    {
      "cell_type": "code",
      "source": [
        "input_test = \"do you read\"\n",
        "print('Input:', input_test)\n",
        "integer_seq_test = input_tokenizer.texts_to_sequences([input_test])[0]\n",
        "print(\"Representacion en vector de tokens de ids\", integer_seq_test)\n",
        "encoder_sequence_test = pad_sequences([integer_seq_test], maxlen=max_input_len)\n",
        "print(\"Padding del vector:\", encoder_sequence_test)\n",
        "\n",
        "print('Input:', input_test)\n",
        "translation = translate_sentence(encoder_sequence_test)\n",
        "print('Response:', translation)"
      ],
      "metadata": {
        "colab": {
          "base_uri": "https://localhost:8080/"
        },
        "id": "jhMECLz3Q69I",
        "outputId": "4dd3cf5c-17bc-4375-ffd3-db9fdb6db0ab"
      },
      "execution_count": 112,
      "outputs": [
        {
          "output_type": "stream",
          "name": "stdout",
          "text": [
            "Input: do you read\n",
            "Representacion en vector de tokens de ids [3, 2, 23]\n",
            "Padding del vector: [[ 0  0  0  0  0  0  3  2 23]]\n",
            "Input: do you read\n",
            "1/1 [==============================] - 0s 17ms/step\n",
            "1/1 [==============================] - 0s 18ms/step\n",
            "1/1 [==============================] - 0s 21ms/step\n",
            "1/1 [==============================] - 0s 22ms/step\n",
            "1/1 [==============================] - 0s 19ms/step\n",
            "1/1 [==============================] - 0s 19ms/step\n",
            "1/1 [==============================] - 0s 17ms/step\n",
            "1/1 [==============================] - 0s 22ms/step\n",
            "1/1 [==============================] - 0s 17ms/step\n",
            "Response: yes i do i love to read\n"
          ]
        }
      ]
    },
    {
      "cell_type": "code",
      "source": [
        "input_test = \"do you have any pet\"\n",
        "print('Input:', input_test)\n",
        "integer_seq_test = input_tokenizer.texts_to_sequences([input_test])[0]\n",
        "print(\"Representacion en vector de tokens de ids\", integer_seq_test)\n",
        "encoder_sequence_test = pad_sequences([integer_seq_test], maxlen=max_input_len)\n",
        "print(\"Padding del vector:\", encoder_sequence_test)\n",
        "\n",
        "print('Input:', input_test)\n",
        "translation = translate_sentence(encoder_sequence_test)\n",
        "print('Response:', translation)"
      ],
      "metadata": {
        "colab": {
          "base_uri": "https://localhost:8080/"
        },
        "id": "B7cFWH-PS7sw",
        "outputId": "64c9abb9-32bf-4410-c7b6-fd4f537d1daa"
      },
      "execution_count": 113,
      "outputs": [
        {
          "output_type": "stream",
          "name": "stdout",
          "text": [
            "Input: do you have any pet\n",
            "Representacion en vector de tokens de ids [3, 2, 16, 31, 252]\n",
            "Padding del vector: [[  0   0   0   0   3   2  16  31 252]]\n",
            "Input: do you have any pet\n",
            "1/1 [==============================] - 0s 16ms/step\n",
            "1/1 [==============================] - 0s 18ms/step\n",
            "1/1 [==============================] - 0s 17ms/step\n",
            "1/1 [==============================] - 0s 20ms/step\n",
            "1/1 [==============================] - 0s 17ms/step\n",
            "1/1 [==============================] - 0s 18ms/step\n",
            "1/1 [==============================] - 0s 17ms/step\n",
            "Response: yes i have a dog\n"
          ]
        }
      ]
    },
    {
      "cell_type": "code",
      "source": [
        "input_test = \"how old are you\"\n",
        "print('Input:', input_test)\n",
        "integer_seq_test = input_tokenizer.texts_to_sequences([input_test])[0]\n",
        "print(\"Representacion en vector de tokens de ids\", integer_seq_test)\n",
        "encoder_sequence_test = pad_sequences([integer_seq_test], maxlen=max_input_len)\n",
        "print(\"Padding del vector:\", encoder_sequence_test)\n",
        "\n",
        "print('Input:', input_test)\n",
        "translation = translate_sentence(encoder_sequence_test)\n",
        "print('Response:', translation)"
      ],
      "metadata": {
        "colab": {
          "base_uri": "https://localhost:8080/"
        },
        "id": "UeUBel3qTCwf",
        "outputId": "f1ba6a72-60a4-4473-ab28-4160d55bbff4"
      },
      "execution_count": 125,
      "outputs": [
        {
          "output_type": "stream",
          "name": "stdout",
          "text": [
            "Input: how old are you\n",
            "Representacion en vector de tokens de ids [10, 64, 7, 2]\n",
            "Padding del vector: [[ 0  0  0  0  0 10 64  7  2]]\n",
            "Input: how old are you\n",
            "1/1 [==============================] - 0s 19ms/step\n",
            "1/1 [==============================] - 0s 17ms/step\n",
            "1/1 [==============================] - 0s 17ms/step\n",
            "1/1 [==============================] - 0s 21ms/step\n",
            "1/1 [==============================] - 0s 19ms/step\n",
            "1/1 [==============================] - 0s 17ms/step\n",
            "1/1 [==============================] - 0s 18ms/step\n",
            "1/1 [==============================] - 0s 21ms/step\n",
            "Response: i am 32 i am 32\n"
          ]
        }
      ]
    },
    {
      "cell_type": "code",
      "source": [
        "input_test = \"do you have money\"\n",
        "print('Input:', input_test)\n",
        "integer_seq_test = input_tokenizer.texts_to_sequences([input_test])[0]\n",
        "print(\"Representacion en vector de tokens de ids\", integer_seq_test)\n",
        "encoder_sequence_test = pad_sequences([integer_seq_test], maxlen=max_input_len)\n",
        "print(\"Padding del vector:\", encoder_sequence_test)\n",
        "\n",
        "print('Input:', input_test)\n",
        "translation = translate_sentence(encoder_sequence_test)\n",
        "print('Response:', translation)"
      ],
      "metadata": {
        "colab": {
          "base_uri": "https://localhost:8080/"
        },
        "id": "eSCAjHOkTQG_",
        "outputId": "09a5154c-ed03-4e90-a6f3-f35da29f3bc9"
      },
      "execution_count": 119,
      "outputs": [
        {
          "output_type": "stream",
          "name": "stdout",
          "text": [
            "Input: do you have money\n",
            "Representacion en vector de tokens de ids [3, 2, 16, 478]\n",
            "Padding del vector: [[  0   0   0   0   0   3   2  16 478]]\n",
            "Input: do you have money\n",
            "1/1 [==============================] - 0s 17ms/step\n",
            "1/1 [==============================] - 0s 17ms/step\n",
            "1/1 [==============================] - 0s 18ms/step\n",
            "1/1 [==============================] - 0s 22ms/step\n",
            "1/1 [==============================] - 0s 20ms/step\n",
            "1/1 [==============================] - 0s 19ms/step\n",
            "1/1 [==============================] - 0s 18ms/step\n",
            "Response: i do not have any\n"
          ]
        }
      ]
    },
    {
      "cell_type": "code",
      "source": [
        "input_test = \"what is your name\"\n",
        "print('Input:', input_test)\n",
        "integer_seq_test = input_tokenizer.texts_to_sequences([input_test])[0]\n",
        "print(\"Representacion en vector de tokens de ids\", integer_seq_test)\n",
        "encoder_sequence_test = pad_sequences([integer_seq_test], maxlen=max_input_len)\n",
        "print(\"Padding del vector:\", encoder_sequence_test)\n",
        "\n",
        "print('Input:', input_test)\n",
        "translation = translate_sentence(encoder_sequence_test)\n",
        "print('Response:', translation)"
      ],
      "metadata": {
        "colab": {
          "base_uri": "https://localhost:8080/"
        },
        "id": "JmDkHGWITm8Y",
        "outputId": "f28159a6-fd64-4f5e-c92c-040405c9ff3a"
      },
      "execution_count": 123,
      "outputs": [
        {
          "output_type": "stream",
          "name": "stdout",
          "text": [
            "Input: what is your name\n",
            "Representacion en vector de tokens de ids [4, 15, 21, 51]\n",
            "Padding del vector: [[ 0  0  0  0  0  4 15 21 51]]\n",
            "Input: what is your name\n",
            "1/1 [==============================] - 0s 21ms/step\n",
            "1/1 [==============================] - 0s 20ms/step\n",
            "1/1 [==============================] - 0s 18ms/step\n",
            "1/1 [==============================] - 0s 18ms/step\n",
            "1/1 [==============================] - 0s 17ms/step\n",
            "1/1 [==============================] - 0s 19ms/step\n",
            "1/1 [==============================] - 0s 17ms/step\n",
            "Response: i am in the navy\n"
          ]
        }
      ]
    },
    {
      "cell_type": "code",
      "source": [
        "input_test = \"what are you\"\n",
        "print('Input:', input_test)\n",
        "integer_seq_test = input_tokenizer.texts_to_sequences([input_test])[0]\n",
        "print(\"Representacion en vector de tokens de ids\", integer_seq_test)\n",
        "encoder_sequence_test = pad_sequences([integer_seq_test], maxlen=max_input_len)\n",
        "print(\"Padding del vector:\", encoder_sequence_test)\n",
        "\n",
        "print('Input:', input_test)\n",
        "translation = translate_sentence(encoder_sequence_test)\n",
        "print('Response:', translation)"
      ],
      "metadata": {
        "colab": {
          "base_uri": "https://localhost:8080/"
        },
        "id": "DU_DoJTyU2ug",
        "outputId": "5a5d58d5-0eb7-47a1-8d54-082695be398d"
      },
      "execution_count": 126,
      "outputs": [
        {
          "output_type": "stream",
          "name": "stdout",
          "text": [
            "Input: what are you\n",
            "Representacion en vector de tokens de ids [4, 7, 2]\n",
            "Padding del vector: [[0 0 0 0 0 0 4 7 2]]\n",
            "Input: what are you\n",
            "1/1 [==============================] - 0s 19ms/step\n",
            "1/1 [==============================] - 0s 21ms/step\n",
            "1/1 [==============================] - 0s 25ms/step\n",
            "1/1 [==============================] - 0s 25ms/step\n",
            "1/1 [==============================] - 0s 25ms/step\n",
            "1/1 [==============================] - 0s 25ms/step\n",
            "1/1 [==============================] - 0s 23ms/step\n",
            "1/1 [==============================] - 0s 26ms/step\n",
            "1/1 [==============================] - 0s 30ms/step\n",
            "1/1 [==============================] - 0s 23ms/step\n",
            "Response: i am a girl i am a girl\n"
          ]
        }
      ]
    },
    {
      "cell_type": "code",
      "source": [
        "input_test = \"what is your hobbie\"\n",
        "print('Input:', input_test)\n",
        "integer_seq_test = input_tokenizer.texts_to_sequences([input_test])[0]\n",
        "print(\"Representacion en vector de tokens de ids\", integer_seq_test)\n",
        "encoder_sequence_test = pad_sequences([integer_seq_test], maxlen=max_input_len)\n",
        "print(\"Padding del vector:\", encoder_sequence_test)\n",
        "\n",
        "print('Input:', input_test)\n",
        "translation = translate_sentence(encoder_sequence_test)\n",
        "print('Response:', translation)"
      ],
      "metadata": {
        "colab": {
          "base_uri": "https://localhost:8080/"
        },
        "id": "S_Xa8MY2VI-Y",
        "outputId": "dc75a3ac-7d8f-4c72-88ca-23cef731494f"
      },
      "execution_count": 127,
      "outputs": [
        {
          "output_type": "stream",
          "name": "stdout",
          "text": [
            "Input: what is your hobbie\n",
            "Representacion en vector de tokens de ids [4, 15, 21, 1060]\n",
            "Padding del vector: [[   0    0    0    0    0    4   15   21 1060]]\n",
            "Input: what is your hobbie\n",
            "1/1 [==============================] - 0s 23ms/step\n",
            "1/1 [==============================] - 0s 18ms/step\n",
            "1/1 [==============================] - 0s 20ms/step\n",
            "1/1 [==============================] - 0s 18ms/step\n",
            "1/1 [==============================] - 0s 21ms/step\n",
            "1/1 [==============================] - 0s 20ms/step\n",
            "1/1 [==============================] - 0s 18ms/step\n",
            "1/1 [==============================] - 0s 17ms/step\n",
            "1/1 [==============================] - 0s 18ms/step\n",
            "Response: i like to go to the beach\n"
          ]
        }
      ]
    }
  ],
  "metadata": {
    "colab": {
      "provenance": []
    },
    "kernelspec": {
      "display_name": "Python 3",
      "name": "python3"
    },
    "language_info": {
      "name": "python",
      "version": "3.10.6"
    },
    "vscode": {
      "interpreter": {
        "hash": "916dbcbb3f70747c44a77c7bcd40155683ae19c65e1c03b4aa3499c5328201f1"
      }
    }
  },
  "nbformat": 4,
  "nbformat_minor": 0
}